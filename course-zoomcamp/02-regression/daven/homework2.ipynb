{
 "cells": [
  {
   "cell_type": "markdown",
   "id": "cfca7a5a-9791-44e8-b054-4110347c9107",
   "metadata": {},
   "source": [
    "In this homework, we will use the New York City Airbnb Open Data. You can take it from\n",
    "[Kaggle](https://www.kaggle.com/dgomonov/new-york-city-airbnb-open-data?select=AB_NYC_2019.csv)\n",
    "or download from [here](https://raw.githubusercontent.com/alexeygrigorev/datasets/master/AB_NYC_2019.csv)\n",
    "if you don't want to sign up to Kaggle.\n",
    "\n",
    "The goal of this homework is to create a regression model for prediction apartment prices (column `'price'`)."
   ]
  },
  {
   "cell_type": "code",
   "execution_count": 402,
   "id": "4ed9a9cd",
   "metadata": {},
   "outputs": [],
   "source": [
    "# Import statements\n",
    "import numpy as np\n",
    "import pandas as pd\n",
    "import matplotlib.pyplot as plt\n",
    "import seaborn as sns\n",
    "%matplotlib inline\n"
   ]
  },
  {
   "cell_type": "code",
   "execution_count": 403,
   "id": "ebf6ede8",
   "metadata": {},
   "outputs": [
    {
     "data": {
      "text/html": [
       "<div>\n",
       "<style scoped>\n",
       "    .dataframe tbody tr th:only-of-type {\n",
       "        vertical-align: middle;\n",
       "    }\n",
       "\n",
       "    .dataframe tbody tr th {\n",
       "        vertical-align: top;\n",
       "    }\n",
       "\n",
       "    .dataframe thead th {\n",
       "        text-align: right;\n",
       "    }\n",
       "</style>\n",
       "<table border=\"1\" class=\"dataframe\">\n",
       "  <thead>\n",
       "    <tr style=\"text-align: right;\">\n",
       "      <th></th>\n",
       "      <th>id</th>\n",
       "      <th>name</th>\n",
       "      <th>host_id</th>\n",
       "      <th>host_name</th>\n",
       "      <th>neighbourhood_group</th>\n",
       "      <th>neighbourhood</th>\n",
       "      <th>latitude</th>\n",
       "      <th>longitude</th>\n",
       "      <th>room_type</th>\n",
       "      <th>price</th>\n",
       "      <th>minimum_nights</th>\n",
       "      <th>number_of_reviews</th>\n",
       "      <th>last_review</th>\n",
       "      <th>reviews_per_month</th>\n",
       "      <th>calculated_host_listings_count</th>\n",
       "      <th>availability_365</th>\n",
       "    </tr>\n",
       "  </thead>\n",
       "  <tbody>\n",
       "    <tr>\n",
       "      <th>0</th>\n",
       "      <td>2539</td>\n",
       "      <td>clean_&amp;_quiet_apt_home_by_the_park</td>\n",
       "      <td>2787</td>\n",
       "      <td>john</td>\n",
       "      <td>brooklyn</td>\n",
       "      <td>kensington</td>\n",
       "      <td>40.64749</td>\n",
       "      <td>-73.97237</td>\n",
       "      <td>private_room</td>\n",
       "      <td>149</td>\n",
       "      <td>1</td>\n",
       "      <td>9</td>\n",
       "      <td>2018-10-19</td>\n",
       "      <td>0.21</td>\n",
       "      <td>6</td>\n",
       "      <td>365</td>\n",
       "    </tr>\n",
       "    <tr>\n",
       "      <th>1</th>\n",
       "      <td>2595</td>\n",
       "      <td>skylit_midtown_castle</td>\n",
       "      <td>2845</td>\n",
       "      <td>jennifer</td>\n",
       "      <td>manhattan</td>\n",
       "      <td>midtown</td>\n",
       "      <td>40.75362</td>\n",
       "      <td>-73.98377</td>\n",
       "      <td>entire_home/apt</td>\n",
       "      <td>225</td>\n",
       "      <td>1</td>\n",
       "      <td>45</td>\n",
       "      <td>2019-05-21</td>\n",
       "      <td>0.38</td>\n",
       "      <td>2</td>\n",
       "      <td>355</td>\n",
       "    </tr>\n",
       "    <tr>\n",
       "      <th>2</th>\n",
       "      <td>3647</td>\n",
       "      <td>the_village_of_harlem....new_york_!</td>\n",
       "      <td>4632</td>\n",
       "      <td>elisabeth</td>\n",
       "      <td>manhattan</td>\n",
       "      <td>harlem</td>\n",
       "      <td>40.80902</td>\n",
       "      <td>-73.94190</td>\n",
       "      <td>private_room</td>\n",
       "      <td>150</td>\n",
       "      <td>3</td>\n",
       "      <td>0</td>\n",
       "      <td>NaN</td>\n",
       "      <td>NaN</td>\n",
       "      <td>1</td>\n",
       "      <td>365</td>\n",
       "    </tr>\n",
       "    <tr>\n",
       "      <th>3</th>\n",
       "      <td>3831</td>\n",
       "      <td>cozy_entire_floor_of_brownstone</td>\n",
       "      <td>4869</td>\n",
       "      <td>lisaroxanne</td>\n",
       "      <td>brooklyn</td>\n",
       "      <td>clinton_hill</td>\n",
       "      <td>40.68514</td>\n",
       "      <td>-73.95976</td>\n",
       "      <td>entire_home/apt</td>\n",
       "      <td>89</td>\n",
       "      <td>1</td>\n",
       "      <td>270</td>\n",
       "      <td>2019-07-05</td>\n",
       "      <td>4.64</td>\n",
       "      <td>1</td>\n",
       "      <td>194</td>\n",
       "    </tr>\n",
       "    <tr>\n",
       "      <th>4</th>\n",
       "      <td>5022</td>\n",
       "      <td>entire_apt:_spacious_studio/loft_by_central_park</td>\n",
       "      <td>7192</td>\n",
       "      <td>laura</td>\n",
       "      <td>manhattan</td>\n",
       "      <td>east_harlem</td>\n",
       "      <td>40.79851</td>\n",
       "      <td>-73.94399</td>\n",
       "      <td>entire_home/apt</td>\n",
       "      <td>80</td>\n",
       "      <td>10</td>\n",
       "      <td>9</td>\n",
       "      <td>2018-11-19</td>\n",
       "      <td>0.10</td>\n",
       "      <td>1</td>\n",
       "      <td>0</td>\n",
       "    </tr>\n",
       "  </tbody>\n",
       "</table>\n",
       "</div>"
      ],
      "text/plain": [
       "     id                                              name  host_id  \\\n",
       "0  2539                clean_&_quiet_apt_home_by_the_park     2787   \n",
       "1  2595                             skylit_midtown_castle     2845   \n",
       "2  3647               the_village_of_harlem....new_york_!     4632   \n",
       "3  3831                   cozy_entire_floor_of_brownstone     4869   \n",
       "4  5022  entire_apt:_spacious_studio/loft_by_central_park     7192   \n",
       "\n",
       "     host_name neighbourhood_group neighbourhood  latitude  longitude  \\\n",
       "0         john            brooklyn    kensington  40.64749  -73.97237   \n",
       "1     jennifer           manhattan       midtown  40.75362  -73.98377   \n",
       "2    elisabeth           manhattan        harlem  40.80902  -73.94190   \n",
       "3  lisaroxanne            brooklyn  clinton_hill  40.68514  -73.95976   \n",
       "4        laura           manhattan   east_harlem  40.79851  -73.94399   \n",
       "\n",
       "         room_type  price  minimum_nights  number_of_reviews last_review  \\\n",
       "0     private_room    149               1                  9  2018-10-19   \n",
       "1  entire_home/apt    225               1                 45  2019-05-21   \n",
       "2     private_room    150               3                  0         NaN   \n",
       "3  entire_home/apt     89               1                270  2019-07-05   \n",
       "4  entire_home/apt     80              10                  9  2018-11-19   \n",
       "\n",
       "   reviews_per_month  calculated_host_listings_count  availability_365  \n",
       "0               0.21                               6               365  \n",
       "1               0.38                               2               355  \n",
       "2                NaN                               1               365  \n",
       "3               4.64                               1               194  \n",
       "4               0.10                               1                 0  "
      ]
     },
     "execution_count": 403,
     "metadata": {},
     "output_type": "execute_result"
    }
   ],
   "source": [
    "data = 'nyc_airbnb_data/AB_NYC_2019.csv'\n",
    "# making the data readable consistently\n",
    "df = pd.read_csv(data)\n",
    "df.columns = df.columns.str.lower().str.replace(' ','_') \n",
    "strings = list(df.dtypes[df.dtypes == 'object'].index)\n",
    "\n",
    "for col in strings:\n",
    "    df[col] = df[col].str.lower().str.replace(' ','_') \n",
    "df.head()"
   ]
  },
  {
   "cell_type": "code",
   "execution_count": 404,
   "id": "3c1d8d9b",
   "metadata": {},
   "outputs": [
    {
     "data": {
      "text/plain": [
       "id                                  int64\n",
       "name                               object\n",
       "host_id                             int64\n",
       "host_name                          object\n",
       "neighbourhood_group                object\n",
       "neighbourhood                      object\n",
       "latitude                          float64\n",
       "longitude                         float64\n",
       "room_type                          object\n",
       "price                               int64\n",
       "minimum_nights                      int64\n",
       "number_of_reviews                   int64\n",
       "last_review                        object\n",
       "reviews_per_month                 float64\n",
       "calculated_host_listings_count      int64\n",
       "availability_365                    int64\n",
       "dtype: object"
      ]
     },
     "execution_count": 404,
     "metadata": {},
     "output_type": "execute_result"
    }
   ],
   "source": [
    "df.dtypes"
   ]
  },
  {
   "cell_type": "code",
   "execution_count": 405,
   "id": "172f5fb9",
   "metadata": {},
   "outputs": [
    {
     "data": {
      "text/plain": [
       "id                                    0\n",
       "name                                 16\n",
       "host_id                               0\n",
       "host_name                            21\n",
       "neighbourhood_group                   0\n",
       "neighbourhood                         0\n",
       "latitude                              0\n",
       "longitude                             0\n",
       "room_type                             0\n",
       "price                                 0\n",
       "minimum_nights                        0\n",
       "number_of_reviews                     0\n",
       "last_review                       10052\n",
       "reviews_per_month                 10052\n",
       "calculated_host_listings_count        0\n",
       "availability_365                      0\n",
       "dtype: int64"
      ]
     },
     "execution_count": 405,
     "metadata": {},
     "output_type": "execute_result"
    }
   ],
   "source": [
    "df.isna().sum()"
   ]
  },
  {
   "cell_type": "code",
   "execution_count": 406,
   "id": "f9118a1a",
   "metadata": {},
   "outputs": [
    {
     "data": {
      "image/png": "[encoded data removed]",
      "text/plain": [
       "<Figure size 432x288 with 1 Axes>"
      ]
     },
     "metadata": {
      "needs_background": "light"
     },
     "output_type": "display_data"
    }
   ],
   "source": [
    "sns.histplot(df['price'],bins = 50)\n",
    "plt.xlabel('Price')\n",
    "plt.ylabel('Frequency')\n",
    "plt.show()\n",
    "plt.close()"
   ]
  },
  {
   "cell_type": "markdown",
   "id": "94c53954",
   "metadata": {},
   "source": [
    "There is a large tail and the data is skewed right"
   ]
  },
  {
   "cell_type": "markdown",
   "id": "077c13b8-7d9e-41e5-bfb7-46d6bde260f1",
   "metadata": {},
   "source": [
    "### EDA\n",
    "\n",
    "* Load the data.\n",
    "* Look at the `price` variable. Does it have a long tail? \n",
    "\n",
    "### Features\n",
    "\n",
    "For the rest of the homework, you'll need to use only these columns:\n",
    "\n",
    "* `'latitude'`,\n",
    "* `'longitude'`,\n",
    "* `'price'`,\n",
    "* `'minimum_nights'`,\n",
    "* `'number_of_reviews'`,\n",
    "* `'reviews_per_month'`,\n",
    "* `'calculated_host_listings_count'`,\n",
    "* `'availability_365'`\n"
   ]
  },
  {
   "cell_type": "code",
   "execution_count": 407,
   "id": "7c10ba27",
   "metadata": {},
   "outputs": [],
   "source": [
    "check = ['latitude',\n",
    "'longitude',\n",
    "'price',\n",
    "'minimum_nights',\n",
    "'number_of_reviews',\n",
    "'reviews_per_month',\n",
    "'calculated_host_listings_count',\n",
    "'availability_365']\n",
    "df = df[check]"
   ]
  },
  {
   "cell_type": "code",
   "execution_count": 408,
   "id": "4c553e48",
   "metadata": {},
   "outputs": [
    {
     "data": {
      "text/plain": [
       "latitude                              0\n",
       "longitude                             0\n",
       "price                                 0\n",
       "minimum_nights                        0\n",
       "number_of_reviews                     0\n",
       "reviews_per_month                 10052\n",
       "calculated_host_listings_count        0\n",
       "availability_365                      0\n",
       "dtype: int64"
      ]
     },
     "execution_count": 408,
     "metadata": {},
     "output_type": "execute_result"
    }
   ],
   "source": [
    "df[check].isna().sum()"
   ]
  },
  {
   "cell_type": "markdown",
   "id": "d60e4d83",
   "metadata": {},
   "source": [
    "## Question 1\n",
    "\n",
    "Find a feature with missing values. How many missing values does it have?\n",
    "\n",
    "reviews_per_month is the only column with NA/null values"
   ]
  },
  {
   "cell_type": "code",
   "execution_count": 241,
   "id": "1f695109",
   "metadata": {},
   "outputs": [
    {
     "data": {
      "image/png": "[encoded data removed]",
      "text/plain": [
       "<Figure size 432x288 with 1 Axes>"
      ]
     },
     "metadata": {
      "needs_background": "light"
     },
     "output_type": "display_data"
    }
   ],
   "source": [
    "sns.histplot(np.log1p(df['price']),bins = 50)\n",
    "plt.xlabel('Ln Price + 1')\n",
    "plt.ylabel('Frequency')\n",
    "plt.show()"
   ]
  },
  {
   "cell_type": "markdown",
   "id": "3986051d",
   "metadata": {},
   "source": [
    "Log(price) + 1 histogram is normally distributed"
   ]
  },
  {
   "cell_type": "markdown",
   "id": "5863c66b",
   "metadata": {},
   "source": [
    "## Question 2\n",
    "\n",
    "What's the median (50% percentile) for variable 'minimum_nights'?"
   ]
  },
  {
   "cell_type": "code",
   "execution_count": 242,
   "id": "e9aa9aa0",
   "metadata": {
    "tags": []
   },
   "outputs": [
    {
     "name": "stdout",
     "output_type": "stream",
     "text": [
      "Median of minumum nights series is 3\n"
     ]
    }
   ],
   "source": [
    "min_nights_med = df['minimum_nights'].median()\n",
    "print('Median of minumum nights series is', str(int(min_nights_med)))"
   ]
  },
  {
   "cell_type": "markdown",
   "id": "a395c801-f252-49be-b4c6-5bd823ad96c8",
   "metadata": {},
   "source": [
    "### Split the data\n",
    "\n",
    "* Shuffle the initial dataset, use seed `42`.\n",
    "* Split your data in train/val/test sets, with 60%/20%/20% distribution.\n",
    "* Make sure that the target value ('price') is not in your dataframe.\n",
    "* Apply the log transformation to the price variable using the `np.log1p()` function."
   ]
  },
  {
   "cell_type": "code",
   "execution_count": 273,
   "id": "a01a7bfd-b021-4445-a8f0-75c06b9be127",
   "metadata": {},
   "outputs": [],
   "source": [
    "def shuffle_df(df,seed,check,remove):\n",
    "    np.random.seed(seed)\n",
    "\n",
    "    n = len(df)\n",
    "\n",
    "    n_val = int(0.2 * n)\n",
    "    n_test = int(0.2 * n)\n",
    "    n_train = n - (n_val + n_test)\n",
    "\n",
    "    idx = np.arange(n)\n",
    "    np.random.shuffle(idx)\n",
    "\n",
    "    df_shuffled = df.iloc[idx]\n",
    "\n",
    "    df_train = df_shuffled.iloc[:n_train].copy()\n",
    "    df_val = df_shuffled.iloc[n_train:n_train+n_val].copy()\n",
    "    df_test = df_shuffled.iloc[n_train+n_val:].copy()\n",
    "\n",
    "    df_train = df_train.reset_index(drop = True)\n",
    "    df_val = df_val.reset_index(drop = True)\n",
    "    df_test = df_test.reset_index(drop = True)\n",
    "    \n",
    "    y_train_orig = df_train[remove].values\n",
    "    y_val_orig = df_val[remove].values\n",
    "    y_test_orig = df_test[remove].values\n",
    "\n",
    "    y_train = np.log1p(df_train[remove].values)\n",
    "    y_val = np.log1p(df_val[remove].values)\n",
    "    y_test = np.log1p(df_test[remove].values)\n",
    "\n",
    "    del df_train[remove]\n",
    "    del df_val[remove]\n",
    "    del df_test[remove]\n",
    "    \n",
    "    if(remove in check):\n",
    "        check.remove(remove)\n",
    "\n",
    "    \n",
    "    return df_train,df_val,df_test,y_train,y_val,y_test"
   ]
  },
  {
   "cell_type": "code",
   "execution_count": 369,
   "id": "b1c8b0ae-fec6-44d5-8bc1-68687e4c728f",
   "metadata": {},
   "outputs": [
    {
     "data": {
      "text/plain": [
       "array([4.02535169, 5.0689042 , 4.79579055, ..., 4.33073334, 3.91202301,\n",
       "       4.61512052])"
      ]
     },
     "execution_count": 369,
     "metadata": {},
     "output_type": "execute_result"
    }
   ],
   "source": [
    "df_train,df_val,df_test,y_train,y_val,y_test = shuffle_df(df,1,check,'price')"
   ]
  },
  {
   "cell_type": "code",
   "execution_count": 275,
   "id": "e184ceef",
   "metadata": {},
   "outputs": [
    {
     "data": {
      "text/plain": [
       "['latitude',\n",
       " 'longitude',\n",
       " 'minimum_nights',\n",
       " 'number_of_reviews',\n",
       " 'reviews_per_month',\n",
       " 'calculated_host_listings_count',\n",
       " 'availability_365']"
      ]
     },
     "execution_count": 275,
     "metadata": {},
     "output_type": "execute_result"
    }
   ],
   "source": [
    "check"
   ]
  },
  {
   "cell_type": "markdown",
   "id": "8d78ebd7-3629-44bb-82c3-7070fcf92331",
   "metadata": {},
   "source": [
    "### Question 3\n",
    "\n",
    "* We need to deal with missing values for the column from Q1.\n",
    "* We have two options: fill it with 0 or with the mean of this variable.\n",
    "* Try both options. For each, train a linear regression model without regularization using the code from the lessons.\n",
    "* For computing the mean, use the training only!\n",
    "* Use the validation dataset to evaluate the models and compare the RMSE of each option.\n",
    "* Round the RMSE scores to 2 decimal digits using `round(score, 2)`\n",
    "* Which option gives better RMSE?\n"
   ]
  },
  {
   "cell_type": "code",
   "execution_count": 276,
   "id": "bf02c491",
   "metadata": {},
   "outputs": [
    {
     "data": {
      "text/plain": [
       "latitude                             0\n",
       "longitude                            0\n",
       "minimum_nights                       0\n",
       "number_of_reviews                    0\n",
       "reviews_per_month                 6031\n",
       "calculated_host_listings_count       0\n",
       "availability_365                     0\n",
       "dtype: int64"
      ]
     },
     "execution_count": 276,
     "metadata": {},
     "output_type": "execute_result"
    }
   ],
   "source": [
    "df_train.isna().sum()"
   ]
  },
  {
   "cell_type": "code",
   "execution_count": 277,
   "id": "949681cf-46b9-4455-8435-9bd3abcbb81b",
   "metadata": {},
   "outputs": [],
   "source": [
    "def train_linear_regression(X, y):\n",
    "    ones = np.ones(X.shape[0])\n",
    "    X = np.column_stack([ones, X])\n",
    "\n",
    "    XTX = X.T.dot(X)\n",
    "    XTX_inv = np.linalg.inv(XTX)\n",
    "    w = XTX_inv.dot(X.T).dot(y)\n",
    "    \n",
    "    return w[0], w[1:]"
   ]
  },
  {
   "cell_type": "code",
   "execution_count": 278,
   "id": "28344785-49fe-4828-b499-0174d8e622da",
   "metadata": {},
   "outputs": [],
   "source": [
    "def rmse(y,y_pred):\n",
    "    diff = y-y_pred\n",
    "    diff_squared = diff**2\n",
    "    mse = diff_squared.mean()\n",
    "    return mse"
   ]
  },
  {
   "cell_type": "code",
   "execution_count": 279,
   "id": "41273659-760c-4221-8fe6-004ad9e30244",
   "metadata": {},
   "outputs": [],
   "source": [
    "def prepare_X(df,fill_val):\n",
    "    df_num = df[check]\n",
    "    df_num = df_num.fillna(0)\n",
    "    X = df_num.values\n",
    "    return X"
   ]
  },
  {
   "cell_type": "code",
   "execution_count": 280,
   "id": "2494e610-19f5-4f81-9e47-885a8ff55f31",
   "metadata": {},
   "outputs": [],
   "source": [
    "def calc_y_pred_values(df,y,fill,r):\n",
    "    X = prepare_X(df,fill)\n",
    "    if r == 1:\n",
    "        w = train_linear_regression(X,y)\n",
    "    else:\n",
    "        w =  train_linear_regression_reg(X,y,r)\n",
    "    return w[0] + X.dot(w[1])"
   ]
  },
  {
   "cell_type": "code",
   "execution_count": 383,
   "id": "218c0971-58e1-42c9-b728-56a0ba25276e",
   "metadata": {},
   "outputs": [
    {
     "name": "stdout",
     "output_type": "stream",
     "text": [
      "train_mean RMSE: 0.41\n",
      "val_mean RMSE: 0.42\n"
     ]
    }
   ],
   "source": [
    "y_pred = (calc_y_pred_values(df_train,y_train,df_train['reviews_per_month'].mean(),1))\n",
    "print('train_mean RMSE:',round(rmse(y_train,y_pred),2))\n",
    "\n",
    "y_pred = (calc_y_pred_values(df_val,y_val,df_val['reviews_per_month'].mean(),1))\n",
    "print('val_mean RMSE:',round(rmse(y_val,y_pred),2))"
   ]
  },
  {
   "cell_type": "code",
   "execution_count": 384,
   "id": "f861bb33-5982-4803-9a41-bb72496fe8eb",
   "metadata": {},
   "outputs": [
    {
     "name": "stdout",
     "output_type": "stream",
     "text": [
      "train_zero RMSE: 0.41\n",
      "val_zero RMSE: 0.42\n"
     ]
    }
   ],
   "source": [
    "y_pred = (calc_y_pred_values(df_train,y_train,0,1))\n",
    "print('train_zero RMSE:',round(rmse(y_train,y_pred),2))\n",
    "\n",
    "y_pred = (calc_y_pred_values(df_val,y_val,0,1))\n",
    "print('val_zero RMSE:',round(rmse(y_val,y_pred),2))"
   ]
  },
  {
   "cell_type": "markdown",
   "id": "6d0c084c-8b91-411f-97e2-9c14d146ae8d",
   "metadata": {},
   "source": [
    "Both zero and average filling of the missing values presented the same value -- either fill can be used"
   ]
  },
  {
   "cell_type": "markdown",
   "id": "34ca373d-1ca8-4801-9541-4dae22c1d502",
   "metadata": {},
   "source": [
    "### Question 4\n",
    "\n",
    "* Now let's train a regularized linear regression.\n",
    "* For this question, fill the NAs with 0. \n",
    "* Try different values of `r` from this list: `[0, 0.000001, 0.0001, 0.001, 0.01, 0.1, 1, 5, 10]`.\n",
    "* Use RMSE to evaluate the model on the validation dataset.\n",
    "* Round the RMSE scores to 2 decimal digits.\n",
    "* Which `r` gives the best RMSE?"
   ]
  },
  {
   "cell_type": "code",
   "execution_count": 283,
   "id": "4e7b5ed2-9b63-4a4d-bbb1-df241bd08a16",
   "metadata": {},
   "outputs": [],
   "source": [
    "def train_linear_regression_reg(X, y, r=0.0):\n",
    "    ones = np.ones(X.shape[0])\n",
    "    X = np.column_stack([ones, X])\n",
    "\n",
    "    XTX = X.T.dot(X)\n",
    "    reg = r * np.eye(XTX.shape[0])\n",
    "    XTX = XTX + reg\n",
    "\n",
    "    XTX_inv = np.linalg.inv(XTX)\n",
    "    w = XTX_inv.dot(X.T).dot(y)\n",
    "    \n",
    "    return w[0], w[1:]"
   ]
  },
  {
   "cell_type": "code",
   "execution_count": 284,
   "id": "9065dfa4-6000-4533-aab5-5a74eb6bd418",
   "metadata": {},
   "outputs": [],
   "source": [
    "r = [0, 0.000001, 0.0001, 0.001, 0.01, 0.1, 1, 5, 10]"
   ]
  },
  {
   "cell_type": "code",
   "execution_count": 285,
   "id": "c8237d2a-5b57-45b1-8dc0-802b8eedd0ff",
   "metadata": {},
   "outputs": [],
   "source": [
    "def best_r_val(r_list):\n",
    "    for r in r_list:\n",
    "        w_value = train_linear_regression_reg(zero_train_X,y_train,r)\n",
    "        rmse_value = rmse(w_value[0] + X_val_zero.dot(w_value[1]),y_val)\n",
    "        print('r:',\"{:e}\".format(r),'\\tw0:',\"{:e}\".format(w_value[0]),'\\t\\trmse:', round(rmse_value,5))"
   ]
  },
  {
   "cell_type": "code",
   "execution_count": 286,
   "id": "d5ddbafa-e2b3-4b4d-8ea1-36524ef07b63",
   "metadata": {},
   "outputs": [
    {
     "name": "stdout",
     "output_type": "stream",
     "text": [
      "r: 0.000000e+00 \tw0: -4.147055e+02 \t\trmse: 0.41764\n",
      "r: 1.000000e-06 \tw0: -4.146568e+02 \t\trmse: 0.41764\n",
      "r: 1.000000e-04 \tw0: -4.098848e+02 \t\trmse: 0.41772\n",
      "r: 1.000000e-03 \tw0: -3.710641e+02 \t\trmse: 0.41878\n",
      "r: 1.000000e-02 \tw0: -1.905711e+02 \t\trmse: 0.43479\n",
      "r: 1.000000e-01 \tw0: -3.249627e+01 \t\trmse: 0.46377\n",
      "r: 1.000000e+00 \tw0: -3.494924e+00 \t\trmse: 0.4706\n",
      "r: 5.000000e+00 \tw0: -7.026202e-01 \t\trmse: 0.4713\n",
      "r: 1.000000e+01 \tw0: -3.509476e-01 \t\trmse: 0.47141\n"
     ]
    }
   ],
   "source": [
    "best_r_val(r)"
   ]
  },
  {
   "cell_type": "markdown",
   "id": "40472f99-4967-4ae7-8363-e5fa036aa107",
   "metadata": {},
   "source": [
    "The best r value is 0"
   ]
  },
  {
   "cell_type": "markdown",
   "id": "975649e2-90dc-424a-8ff7-7f8b862c2bfa",
   "metadata": {},
   "source": [
    "### Question 5 \n",
    "\n",
    "* We used seed 42 for splitting the data. Let's find out how selecting the seed influences our score.\n",
    "* Try different seed values: `[0, 1, 2, 3, 4, 5, 6, 7, 8, 9]`.\n",
    "* For each seed, do the train/validation/test split with 60%/20%/20% distribution.\n",
    "* Fill the missing values with 0 and train a model without regularization.\n",
    "* For each seed, evaluate the model on the validation dataset and collect the RMSE scores. \n",
    "* What's the standard deviation of all the scores? To compute the standard deviation, use `np.std`.\n",
    "* Round the result to 3 decimal digits (`round(std, 3)`)"
   ]
  },
  {
   "cell_type": "code",
   "execution_count": 390,
   "id": "81010683-4d23-483b-a358-c0a2347fa3e7",
   "metadata": {},
   "outputs": [],
   "source": [
    "def zero_fill_collect(df,seed,check,remove,r,df_use):\n",
    "    df_train,df_val,df_test,y_train,y_val,y_test = shuffle_df(df,seed,check,remove)\n",
    "    if df_use == 'val':\n",
    "        y_pred = (calc_y_pred_values(df_val,y_val,0,r))\n",
    "        rmse_val = round(rmse(y_val,y_pred),4)\n",
    "    if df_use == 'test':\n",
    "        df_train_val = pd.concat([df_train,df_val])\n",
    "        df_train_val = df_train_val.reset_index(drop = True)\n",
    "\n",
    "        y_train_val = pd.DataFrame(np.array(list(y_train) + list(y_val)))\n",
    "        \n",
    "        y_pred = (calc_y_pred_values(df_train_val,y_train_val,0,r))\n",
    "        rmse_val = round(rmse(y_test,y_pred),4)\n",
    "    return rmse_val,[df_train,df_val,df_test],[y_train,y_val,y_test]"
   ]
  },
  {
   "cell_type": "code",
   "execution_count": 389,
   "id": "f5535943-d2c5-422b-9d8c-073f965a7f9d",
   "metadata": {},
   "outputs": [
    {
     "name": "stdout",
     "output_type": "stream",
     "text": [
      "0.008\n"
     ]
    }
   ],
   "source": [
    "rmse_list = []\n",
    "seed_values = [x for x in range(0,1000)]\n",
    "\n",
    "for x in seed_values:\n",
    "    rmse_val, df_triad, y_triad = zero_fill_collect(df,x,check,'price',1,'val')\n",
    "    rmse_list.append(rmse_val)\n",
    "\n",
    "rmse_array = np.array(rmse_list)\n",
    "rounded_std = round(np.std(rmse_array),3)\n",
    "print(rounded_std)"
   ]
  },
  {
   "cell_type": "markdown",
   "id": "b1cb5336-86e5-450c-827d-97bc28833806",
   "metadata": {},
   "source": [
    "### Question 6\n",
    "\n",
    "* Split the dataset like previously, use seed 9.\n",
    "* Combine train and validation datasets.\n",
    "* Fill the missing values with 0 and train a model with `r=0.001`. \n",
    "r = 0.001* What's the RMSE on the test dataset?"
   ]
  },
  {
   "cell_type": "code",
   "execution_count": 409,
   "id": "4de70ff1-27d2-46bc-abcc-72d9c09a62f6",
   "metadata": {},
   "outputs": [
    {
     "name": "stdout",
     "output_type": "stream",
     "text": [
      "0 0.5255\n",
      "1 0.5505\n",
      "2 0.5414\n",
      "3 0.5367\n",
      "4 0.5586\n",
      "5 0.5332\n",
      "6 0.5453\n",
      "7 0.5565\n",
      "8 0.5344\n",
      "9 0.5454\n"
     ]
    }
   ],
   "source": [
    "r = 0.001\n",
    "for seed in range(0,10):\n",
    "    rmse_val, df_triad, y_triad = zero_fill_collect(df,seed,check,'price',r,'test')\n",
    "    print(x,rmse_val)"
   ]
  },
  {
   "cell_type": "markdown",
   "id": "33571d8e-8c58-4d7c-91f5-d941dc38459e",
   "metadata": {},
   "source": [
    "RMSE for Seed:9 with regularization of 0.001 is 0.5454"
   ]
  },
  {
   "cell_type": "code",
   "execution_count": null,
   "id": "8f9a3f62-c312-4733-92ea-0401ecee6542",
   "metadata": {},
   "outputs": [],
   "source": []
  }
 ],
 "metadata": {
  "kernelspec": {
   "display_name": "Python 3 (ipykernel)",
   "language": "python",
   "name": "python3"
  },
  "language_info": {
   "codemirror_mode": {
    "name": "ipython",
    "version": 3
   },
   "file_extension": ".py",
   "mimetype": "text/x-python",
   "name": "python",
   "nbconvert_exporter": "python",
   "pygments_lexer": "ipython3",
   "version": "3.8.9"
  }
 },
 "nbformat": 4,
 "nbformat_minor": 5
}
