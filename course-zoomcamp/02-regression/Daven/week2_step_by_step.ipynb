{
 "cells": [
  {
   "cell_type": "code",
   "execution_count": null,
   "id": "c4e8bc91",
   "metadata": {},
   "outputs": [],
   "source": [
    "import numpy as np\n",
    "import pandas as pd"
   ]
  },
  {
   "cell_type": "markdown",
   "id": "eafb53a9",
   "metadata": {},
   "source": [
    "***\n",
    "# WEEK 2.2\n",
    "***\n",
    "Importing and Normalizing Data\n"
   ]
  },
  {
   "cell_type": "code",
   "execution_count": 2,
   "id": "a4fd5776",
   "metadata": {},
   "outputs": [
    {
     "name": "stdout",
     "output_type": "stream",
     "text": [
      "--2022-06-18 20:07:46--  https://raw.githubusercontent.com/alexeygrigorev/mlbookcamp-code/master/chapter-02-car-price/data.csv\n",
      "Resolving raw.githubusercontent.com (raw.githubusercontent.com)... 2606:50c0:8000::154, 2606:50c0:8001::154, 2606:50c0:8003::154, ...\n",
      "Connecting to raw.githubusercontent.com (raw.githubusercontent.com)|2606:50c0:8000::154|:443... connected.\n",
      "HTTP request sent, awaiting response... 200 OK\n",
      "Length: 1475504 (1.4M) [text/plain]\n",
      "Saving to: ‘data.csv’\n",
      "\n",
      "data.csv            100%[===================>]   1.41M  --.-KB/s    in 0.07s   \n",
      "\n",
      "2022-06-18 20:07:46 (21.6 MB/s) - ‘data.csv’ saved [1475504/1475504]\n",
      "\n"
     ]
    }
   ],
   "source": [
    "!wget https://raw.githubusercontent.com/alexeygrigorev/mlbookcamp-code/master/chapter-02-car-price/data.csv -O data.csv"
   ]
  },
  {
   "cell_type": "code",
   "execution_count": 3,
   "id": "51ac4367",
   "metadata": {},
   "outputs": [],
   "source": [
    "df = pd.read_csv('data.csv')"
   ]
  },
  {
   "cell_type": "markdown",
   "id": "d37e34f9",
   "metadata": {},
   "source": [
    "***\n",
    "Viewing the data after downloading\n"
   ]
  },
  {
   "cell_type": "code",
   "execution_count": 4,
   "id": "42d421af",
   "metadata": {},
   "outputs": [
    {
     "data": {
      "text/html": [
       "<div>\n",
       "<style scoped>\n",
       "    .dataframe tbody tr th:only-of-type {\n",
       "        vertical-align: middle;\n",
       "    }\n",
       "\n",
       "    .dataframe tbody tr th {\n",
       "        vertical-align: top;\n",
       "    }\n",
       "\n",
       "    .dataframe thead th {\n",
       "        text-align: right;\n",
       "    }\n",
       "</style>\n",
       "<table border=\"1\" class=\"dataframe\">\n",
       "  <thead>\n",
       "    <tr style=\"text-align: right;\">\n",
       "      <th></th>\n",
       "      <th>Make</th>\n",
       "      <th>Model</th>\n",
       "      <th>Year</th>\n",
       "      <th>Engine Fuel Type</th>\n",
       "      <th>Engine HP</th>\n",
       "      <th>Engine Cylinders</th>\n",
       "      <th>Transmission Type</th>\n",
       "      <th>Driven_Wheels</th>\n",
       "      <th>Number of Doors</th>\n",
       "      <th>Market Category</th>\n",
       "      <th>Vehicle Size</th>\n",
       "      <th>Vehicle Style</th>\n",
       "      <th>highway MPG</th>\n",
       "      <th>city mpg</th>\n",
       "      <th>Popularity</th>\n",
       "      <th>MSRP</th>\n",
       "    </tr>\n",
       "  </thead>\n",
       "  <tbody>\n",
       "    <tr>\n",
       "      <th>0</th>\n",
       "      <td>BMW</td>\n",
       "      <td>1 Series M</td>\n",
       "      <td>2011</td>\n",
       "      <td>premium unleaded (required)</td>\n",
       "      <td>335.0</td>\n",
       "      <td>6.0</td>\n",
       "      <td>MANUAL</td>\n",
       "      <td>rear wheel drive</td>\n",
       "      <td>2.0</td>\n",
       "      <td>Factory Tuner,Luxury,High-Performance</td>\n",
       "      <td>Compact</td>\n",
       "      <td>Coupe</td>\n",
       "      <td>26</td>\n",
       "      <td>19</td>\n",
       "      <td>3916</td>\n",
       "      <td>46135</td>\n",
       "    </tr>\n",
       "    <tr>\n",
       "      <th>1</th>\n",
       "      <td>BMW</td>\n",
       "      <td>1 Series</td>\n",
       "      <td>2011</td>\n",
       "      <td>premium unleaded (required)</td>\n",
       "      <td>300.0</td>\n",
       "      <td>6.0</td>\n",
       "      <td>MANUAL</td>\n",
       "      <td>rear wheel drive</td>\n",
       "      <td>2.0</td>\n",
       "      <td>Luxury,Performance</td>\n",
       "      <td>Compact</td>\n",
       "      <td>Convertible</td>\n",
       "      <td>28</td>\n",
       "      <td>19</td>\n",
       "      <td>3916</td>\n",
       "      <td>40650</td>\n",
       "    </tr>\n",
       "    <tr>\n",
       "      <th>2</th>\n",
       "      <td>BMW</td>\n",
       "      <td>1 Series</td>\n",
       "      <td>2011</td>\n",
       "      <td>premium unleaded (required)</td>\n",
       "      <td>300.0</td>\n",
       "      <td>6.0</td>\n",
       "      <td>MANUAL</td>\n",
       "      <td>rear wheel drive</td>\n",
       "      <td>2.0</td>\n",
       "      <td>Luxury,High-Performance</td>\n",
       "      <td>Compact</td>\n",
       "      <td>Coupe</td>\n",
       "      <td>28</td>\n",
       "      <td>20</td>\n",
       "      <td>3916</td>\n",
       "      <td>36350</td>\n",
       "    </tr>\n",
       "    <tr>\n",
       "      <th>3</th>\n",
       "      <td>BMW</td>\n",
       "      <td>1 Series</td>\n",
       "      <td>2011</td>\n",
       "      <td>premium unleaded (required)</td>\n",
       "      <td>230.0</td>\n",
       "      <td>6.0</td>\n",
       "      <td>MANUAL</td>\n",
       "      <td>rear wheel drive</td>\n",
       "      <td>2.0</td>\n",
       "      <td>Luxury,Performance</td>\n",
       "      <td>Compact</td>\n",
       "      <td>Coupe</td>\n",
       "      <td>28</td>\n",
       "      <td>18</td>\n",
       "      <td>3916</td>\n",
       "      <td>29450</td>\n",
       "    </tr>\n",
       "    <tr>\n",
       "      <th>4</th>\n",
       "      <td>BMW</td>\n",
       "      <td>1 Series</td>\n",
       "      <td>2011</td>\n",
       "      <td>premium unleaded (required)</td>\n",
       "      <td>230.0</td>\n",
       "      <td>6.0</td>\n",
       "      <td>MANUAL</td>\n",
       "      <td>rear wheel drive</td>\n",
       "      <td>2.0</td>\n",
       "      <td>Luxury</td>\n",
       "      <td>Compact</td>\n",
       "      <td>Convertible</td>\n",
       "      <td>28</td>\n",
       "      <td>18</td>\n",
       "      <td>3916</td>\n",
       "      <td>34500</td>\n",
       "    </tr>\n",
       "  </tbody>\n",
       "</table>\n",
       "</div>"
      ],
      "text/plain": [
       "  Make       Model  Year             Engine Fuel Type  Engine HP  \\\n",
       "0  BMW  1 Series M  2011  premium unleaded (required)      335.0   \n",
       "1  BMW    1 Series  2011  premium unleaded (required)      300.0   \n",
       "2  BMW    1 Series  2011  premium unleaded (required)      300.0   \n",
       "3  BMW    1 Series  2011  premium unleaded (required)      230.0   \n",
       "4  BMW    1 Series  2011  premium unleaded (required)      230.0   \n",
       "\n",
       "   Engine Cylinders Transmission Type     Driven_Wheels  Number of Doors  \\\n",
       "0               6.0            MANUAL  rear wheel drive              2.0   \n",
       "1               6.0            MANUAL  rear wheel drive              2.0   \n",
       "2               6.0            MANUAL  rear wheel drive              2.0   \n",
       "3               6.0            MANUAL  rear wheel drive              2.0   \n",
       "4               6.0            MANUAL  rear wheel drive              2.0   \n",
       "\n",
       "                         Market Category Vehicle Size Vehicle Style  \\\n",
       "0  Factory Tuner,Luxury,High-Performance      Compact         Coupe   \n",
       "1                     Luxury,Performance      Compact   Convertible   \n",
       "2                Luxury,High-Performance      Compact         Coupe   \n",
       "3                     Luxury,Performance      Compact         Coupe   \n",
       "4                                 Luxury      Compact   Convertible   \n",
       "\n",
       "   highway MPG  city mpg  Popularity   MSRP  \n",
       "0           26        19        3916  46135  \n",
       "1           28        19        3916  40650  \n",
       "2           28        20        3916  36350  \n",
       "3           28        18        3916  29450  \n",
       "4           28        18        3916  34500  "
      ]
     },
     "execution_count": 4,
     "metadata": {},
     "output_type": "execute_result"
    }
   ],
   "source": [
    "df.head()"
   ]
  },
  {
   "cell_type": "markdown",
   "id": "74f532e4",
   "metadata": {},
   "source": [
    "***\n",
    "Normalizing the columns to be without spaces for easier accessing"
   ]
  },
  {
   "cell_type": "code",
   "execution_count": 5,
   "id": "6966b22c",
   "metadata": {},
   "outputs": [],
   "source": [
    "df.columns = df.columns.str.lower().str.replace(' ','_')"
   ]
  },
  {
   "cell_type": "markdown",
   "id": "1a26c27a",
   "metadata": {},
   "source": [
    "***\n",
    "Identifying non-numerical/non-boolean values as strings(objects) and normalizing their values"
   ]
  },
  {
   "cell_type": "code",
   "execution_count": 6,
   "id": "ae7834ce",
   "metadata": {},
   "outputs": [
    {
     "data": {
      "text/plain": [
       "make                  object\n",
       "model                 object\n",
       "year                   int64\n",
       "engine_fuel_type      object\n",
       "engine_hp            float64\n",
       "engine_cylinders     float64\n",
       "transmission_type     object\n",
       "driven_wheels         object\n",
       "number_of_doors      float64\n",
       "market_category       object\n",
       "vehicle_size          object\n",
       "vehicle_style         object\n",
       "highway_mpg            int64\n",
       "city_mpg               int64\n",
       "popularity             int64\n",
       "msrp                   int64\n",
       "dtype: object"
      ]
     },
     "execution_count": 6,
     "metadata": {},
     "output_type": "execute_result"
    }
   ],
   "source": [
    "df.dtypes"
   ]
  },
  {
   "cell_type": "code",
   "execution_count": 7,
   "id": "72f080de",
   "metadata": {},
   "outputs": [],
   "source": [
    "string_cols = list(df.dtypes[df.dtypes == 'object'].index)"
   ]
  },
  {
   "cell_type": "code",
   "execution_count": 8,
   "id": "3ec5c175",
   "metadata": {},
   "outputs": [],
   "source": [
    "for col in string_cols:\n",
    "    df[col] = df[col].str.lower().str.replace(' ','_')"
   ]
  },
  {
   "cell_type": "markdown",
   "id": "419efb06",
   "metadata": {},
   "source": [
    "***\n",
    "# WEEK 2.3\n",
    "\n",
    "***\n",
    "\n",
    "Exploratory Data Analysis"
   ]
  },
  {
   "cell_type": "code",
   "execution_count": 9,
   "id": "3b9fbbad",
   "metadata": {},
   "outputs": [
    {
     "name": "stdout",
     "output_type": "stream",
     "text": [
      "['bmw' 'audi' 'fiat' 'mercedes-benz' 'chrysler']\n",
      "48 \n",
      "\n",
      "['1_series_m' '1_series' '100' '124_spider' '190-class']\n",
      "914 \n",
      "\n",
      "[2011 2012 2013 1992 1993]\n",
      "28 \n",
      "\n",
      "['premium_unleaded_(required)' 'regular_unleaded'\n",
      " 'premium_unleaded_(recommended)' 'flex-fuel_(unleaded/e85)' 'diesel']\n",
      "10 \n",
      "\n",
      "[335. 300. 230. 320. 172.]\n",
      "356 \n",
      "\n",
      "[ 6.  4.  5.  8. 12.]\n",
      "9 \n",
      "\n",
      "['manual' 'automatic' 'automated_manual' 'direct_drive' 'unknown']\n",
      "5 \n",
      "\n",
      "['rear_wheel_drive' 'front_wheel_drive' 'all_wheel_drive'\n",
      " 'four_wheel_drive']\n",
      "4 \n",
      "\n",
      "[ 2.  4.  3. nan]\n",
      "3 \n",
      "\n",
      "['factory_tuner,luxury,high-performance' 'luxury,performance'\n",
      " 'luxury,high-performance' 'luxury' 'performance']\n",
      "71 \n",
      "\n",
      "['compact' 'midsize' 'large']\n",
      "3 \n",
      "\n",
      "['coupe' 'convertible' 'sedan' 'wagon' '4dr_hatchback']\n",
      "16 \n",
      "\n",
      "[26 28 27 25 24]\n",
      "59 \n",
      "\n",
      "[19 20 18 17 16]\n",
      "69 \n",
      "\n",
      "[3916 3105  819  617 1013]\n",
      "48 \n",
      "\n",
      "[46135 40650 36350 29450 34500]\n",
      "6049 \n",
      "\n"
     ]
    }
   ],
   "source": [
    "for col in df.columns:\n",
    "    print(df[col].unique()[:5])\n",
    "    print(df[col].nunique(),'\\n')"
   ]
  },
  {
   "cell_type": "markdown",
   "id": "9a3ed4c5",
   "metadata": {},
   "source": [
    "Import visualization packages"
   ]
  },
  {
   "cell_type": "code",
   "execution_count": 10,
   "id": "70a43ae5",
   "metadata": {},
   "outputs": [],
   "source": [
    "import matplotlib.pyplot as plt\n",
    "import seaborn as sns"
   ]
  },
  {
   "cell_type": "code",
   "execution_count": 11,
   "id": "d1d5e597",
   "metadata": {},
   "outputs": [],
   "source": [
    "%matplotlib inline"
   ]
  },
  {
   "cell_type": "markdown",
   "id": "782311a2",
   "metadata": {},
   "source": [
    "Histogram to view price distribution using the MSRP column"
   ]
  },
  {
   "cell_type": "code",
   "execution_count": 12,
   "id": "7f850702",
   "metadata": {},
   "outputs": [
    {
     "data": {
      "image/png": "[encoded data removed]",
      "text/plain": [
       "<Figure size 432x288 with 1 Axes>"
      ]
     },
     "metadata": {
      "needs_background": "light"
     },
     "output_type": "display_data"
    }
   ],
   "source": [
    "hist = sns.histplot(df['msrp'], bins = 25)\n",
    "plt.show()"
   ]
  },
  {
   "cell_type": "markdown",
   "id": "a5ab5135",
   "metadata": {},
   "source": [
    "It is clear that there is a right skew in the data.\n",
    "The distribution of prices isn't normal and therefore, not ideal for ML"
   ]
  },
  {
   "cell_type": "code",
   "execution_count": 13,
   "id": "80ecb870",
   "metadata": {},
   "outputs": [
    {
     "data": {
      "image/png": "[encoded data removed]",
      "text/plain": [
       "<Figure size 432x288 with 1 Axes>"
      ]
     },
     "metadata": {
      "needs_background": "light"
     },
     "output_type": "display_data"
    }
   ],
   "source": [
    "df_MSRP_less_than_100k = df[df['msrp']<100000]\n",
    "sns.histplot(df_MSRP_less_than_100k['msrp'])\n",
    "plt.show()"
   ]
  },
  {
   "cell_type": "markdown",
   "id": "e6a7efbc",
   "metadata": {},
   "source": [
    "Distribution with msrp less than $100000 is more normal than the original dataset"
   ]
  },
  {
   "cell_type": "markdown",
   "id": "03704485",
   "metadata": {},
   "source": [
    "***\n",
    "Using np.log1p() to bring the scale smaller to verify normalization of data through histogram visualization"
   ]
  },
  {
   "cell_type": "code",
   "execution_count": 14,
   "id": "c36c52ec",
   "metadata": {},
   "outputs": [],
   "source": [
    "prices_under_100k_log = np.log1p(df_MSRP_less_than_100k['msrp'])"
   ]
  },
  {
   "cell_type": "code",
   "execution_count": 15,
   "id": "f728f819",
   "metadata": {},
   "outputs": [
    {
     "data": {
      "image/png": "[encoded data removed]",
      "text/plain": [
       "<Figure size 432x288 with 1 Axes>"
      ]
     },
     "metadata": {
      "needs_background": "light"
     },
     "output_type": "display_data"
    }
   ],
   "source": [
    "sns.histplot(prices_under_100k_log)\n",
    "plt.show()"
   ]
  },
  {
   "cell_type": "markdown",
   "id": "1a4acac4",
   "metadata": {},
   "source": [
    "Removing missing values"
   ]
  },
  {
   "cell_type": "code",
   "execution_count": 16,
   "id": "38017356",
   "metadata": {},
   "outputs": [
    {
     "data": {
      "text/plain": [
       "make                    0\n",
       "model                   0\n",
       "year                    0\n",
       "engine_fuel_type        3\n",
       "engine_hp              65\n",
       "engine_cylinders       30\n",
       "transmission_type       0\n",
       "driven_wheels           0\n",
       "number_of_doors         4\n",
       "market_category      3742\n",
       "vehicle_size            0\n",
       "vehicle_style           0\n",
       "highway_mpg             0\n",
       "city_mpg                0\n",
       "popularity              0\n",
       "msrp                    0\n",
       "dtype: int64"
      ]
     },
     "execution_count": 16,
     "metadata": {},
     "output_type": "execute_result"
    }
   ],
   "source": [
    "df_MSRP_less_than_100k.isna().sum()"
   ]
  },
  {
   "cell_type": "markdown",
   "id": "5a19fa82",
   "metadata": {},
   "source": [
    "***\n",
    "# WEEK 2.4\n",
    "\n",
    "***\n",
    "\n",
    "Validation Framework"
   ]
  },
  {
   "cell_type": "markdown",
   "id": "a461e8f4",
   "metadata": {},
   "source": [
    "Setting up train, validate, and test dataframes from the normalized dataset"
   ]
  },
  {
   "cell_type": "code",
   "execution_count": 17,
   "id": "776ab27b",
   "metadata": {},
   "outputs": [],
   "source": [
    "# setting size to the length of the dataframe\n",
    "size = len(df)"
   ]
  },
  {
   "cell_type": "code",
   "execution_count": 18,
   "id": "d434efa1",
   "metadata": {},
   "outputs": [],
   "source": [
    "# randomizing index values\n",
    "index = np.arange(size)\n",
    "np.random.seed(95)\n",
    "np.random.shuffle(index)"
   ]
  },
  {
   "cell_type": "code",
   "execution_count": 19,
   "id": "686f1edb",
   "metadata": {},
   "outputs": [],
   "source": [
    "# setting the range of data for the train dataframe with random index values\n",
    "train = range(0,int(0.6 * size-1))\n",
    "train_index = []\n",
    "for x in train:\n",
    "    train_index.append (index[x])\n",
    "\n",
    "#print(len(train_index))"
   ]
  },
  {
   "cell_type": "code",
   "execution_count": 20,
   "id": "5808e8a0",
   "metadata": {},
   "outputs": [],
   "source": [
    "# setting the range of data for the validate dataframe with random index values\n",
    "\n",
    "validate = range(int(0.6*size),int(0.8*size-1))\n",
    "validate_index = []\n",
    "for x in validate:\n",
    "    validate_index.append (index[x])\n",
    "\n",
    "#print(len(validate_index))"
   ]
  },
  {
   "cell_type": "code",
   "execution_count": 21,
   "id": "219966e3",
   "metadata": {},
   "outputs": [],
   "source": [
    "# setting the range of data for the test dataframe with random index values\n",
    "\n",
    "test = range(int(0.8*size),size-1)\n",
    "test_index = []\n",
    "for x in test:\n",
    "    test_index.append (index[x])\n",
    "\n",
    "#print(len(test_index))"
   ]
  },
  {
   "cell_type": "markdown",
   "id": "7b0526e6",
   "metadata": {},
   "source": [
    "Setting the indices that each dataframe will contain"
   ]
  },
  {
   "cell_type": "code",
   "execution_count": 22,
   "id": "5672ffb6",
   "metadata": {},
   "outputs": [],
   "source": [
    "df_train = df.iloc[train_index]\n",
    "df_validate = df.iloc[validate_index]\n",
    "df_test = df.iloc[test_index]"
   ]
  },
  {
   "cell_type": "markdown",
   "id": "0356c08e",
   "metadata": {},
   "source": [
    "***\n",
    "Reseting index after shuffling indexes for each dataframe\n"
   ]
  },
  {
   "cell_type": "code",
   "execution_count": 23,
   "id": "3f2e1ef6",
   "metadata": {},
   "outputs": [],
   "source": [
    "df_train = df_train.reset_index(drop = True)\n",
    "df_validate = df_validate.reset_index(drop = True)\n",
    "df_test = df_test.reset_index(drop = True)"
   ]
  },
  {
   "cell_type": "code",
   "execution_count": 24,
   "id": "e4de2f08",
   "metadata": {},
   "outputs": [],
   "source": [
    "log_train_MSRP = np.log1p(df_train['msrp'])\n",
    "log_validate_MSRP = np.log1p(df_validate['msrp'])\n",
    "log_test_MSRP = np.log1p(df_test['msrp'])"
   ]
  },
  {
   "cell_type": "code",
   "execution_count": 25,
   "id": "04cf4206",
   "metadata": {},
   "outputs": [
    {
     "data": {
      "text/plain": [
       "0       12.291750\n",
       "1       10.764921\n",
       "2        9.903037\n",
       "3        9.608848\n",
       "4       11.064386\n",
       "          ...    \n",
       "7142     7.601402\n",
       "7143     8.051341\n",
       "7144    10.184749\n",
       "7145    10.463132\n",
       "7146    10.379908\n",
       "Name: msrp, Length: 7147, dtype: float64"
      ]
     },
     "execution_count": 25,
     "metadata": {},
     "output_type": "execute_result"
    }
   ],
   "source": [
    "log_train_MSRP"
   ]
  },
  {
   "cell_type": "code",
   "execution_count": 26,
   "id": "23dc3c11",
   "metadata": {},
   "outputs": [
    {
     "data": {
      "text/plain": [
       "0       10.312812\n",
       "1       11.015362\n",
       "2       10.122462\n",
       "3       10.180968\n",
       "4        7.601402\n",
       "          ...    \n",
       "2377    10.094149\n",
       "2378    10.493799\n",
       "2379    12.376874\n",
       "2380     7.601402\n",
       "2381    10.342903\n",
       "Name: msrp, Length: 2382, dtype: float64"
      ]
     },
     "execution_count": 26,
     "metadata": {},
     "output_type": "execute_result"
    }
   ],
   "source": [
    "log_validate_MSRP"
   ]
  },
  {
   "cell_type": "code",
   "execution_count": 27,
   "id": "0027d214",
   "metadata": {},
   "outputs": [
    {
     "data": {
      "text/plain": [
       "0        7.601402\n",
       "1        7.845808\n",
       "2       10.788308\n",
       "3       10.840972\n",
       "4        7.601402\n",
       "          ...    \n",
       "2377    10.460127\n",
       "2378    10.512193\n",
       "2379    11.033292\n",
       "2380     9.998616\n",
       "2381    10.244094\n",
       "Name: msrp, Length: 2382, dtype: float64"
      ]
     },
     "execution_count": 27,
     "metadata": {},
     "output_type": "execute_result"
    }
   ],
   "source": [
    "log_test_MSRP"
   ]
  },
  {
   "cell_type": "code",
   "execution_count": 28,
   "id": "582ded8b",
   "metadata": {},
   "outputs": [
    {
     "data": {
      "image/png": "[encoded data removed]",
      "text/plain": [
       "<Figure size 432x288 with 1 Axes>"
      ]
     },
     "metadata": {
      "needs_background": "light"
     },
     "output_type": "display_data"
    }
   ],
   "source": [
    "sns.histplot(log_train_MSRP)\n",
    "plt.show()"
   ]
  },
  {
   "cell_type": "code",
   "execution_count": 29,
   "id": "c2d52d7f",
   "metadata": {},
   "outputs": [
    {
     "data": {
      "image/png": "[encoded data removed]",
      "text/plain": [
       "<Figure size 432x288 with 1 Axes>"
      ]
     },
     "metadata": {
      "needs_background": "light"
     },
     "output_type": "display_data"
    }
   ],
   "source": [
    "sns.histplot(log_validate_MSRP)\n",
    "plt.show()"
   ]
  },
  {
   "cell_type": "code",
   "execution_count": 30,
   "id": "f713cc8e",
   "metadata": {},
   "outputs": [
    {
     "data": {
      "image/png": "[encoded data removed]",
      "text/plain": [
       "<Figure size 432x288 with 1 Axes>"
      ]
     },
     "metadata": {
      "needs_background": "light"
     },
     "output_type": "display_data"
    }
   ],
   "source": [
    "sns.histplot(log_test_MSRP)\n",
    "plt.show()"
   ]
  },
  {
   "cell_type": "markdown",
   "id": "c821cb05",
   "metadata": {},
   "source": [
    "***\n",
    "# WEEK 2.5\n",
    "\n",
    "***\n",
    "\n",
    "Linear Regression Basics"
   ]
  },
  {
   "cell_type": "markdown",
   "id": "e2f1bd4c",
   "metadata": {},
   "source": [
    "Testing out linear regression on a row of the train dataframe"
   ]
  },
  {
   "cell_type": "code",
   "execution_count": 31,
   "id": "d4e284f0",
   "metadata": {},
   "outputs": [
    {
     "data": {
      "text/html": [
       "<div>\n",
       "<style scoped>\n",
       "    .dataframe tbody tr th:only-of-type {\n",
       "        vertical-align: middle;\n",
       "    }\n",
       "\n",
       "    .dataframe tbody tr th {\n",
       "        vertical-align: top;\n",
       "    }\n",
       "\n",
       "    .dataframe thead th {\n",
       "        text-align: right;\n",
       "    }\n",
       "</style>\n",
       "<table border=\"1\" class=\"dataframe\">\n",
       "  <thead>\n",
       "    <tr style=\"text-align: right;\">\n",
       "      <th></th>\n",
       "      <th>make</th>\n",
       "      <th>model</th>\n",
       "      <th>year</th>\n",
       "      <th>engine_fuel_type</th>\n",
       "      <th>engine_hp</th>\n",
       "      <th>engine_cylinders</th>\n",
       "      <th>transmission_type</th>\n",
       "      <th>driven_wheels</th>\n",
       "      <th>number_of_doors</th>\n",
       "      <th>market_category</th>\n",
       "      <th>vehicle_size</th>\n",
       "      <th>vehicle_style</th>\n",
       "      <th>highway_mpg</th>\n",
       "      <th>city_mpg</th>\n",
       "      <th>popularity</th>\n",
       "      <th>msrp</th>\n",
       "    </tr>\n",
       "  </thead>\n",
       "  <tbody>\n",
       "    <tr>\n",
       "      <th>0</th>\n",
       "      <td>ferrari</td>\n",
       "      <td>575m</td>\n",
       "      <td>2003</td>\n",
       "      <td>premium_unleaded_(required)</td>\n",
       "      <td>515.0</td>\n",
       "      <td>12.0</td>\n",
       "      <td>manual</td>\n",
       "      <td>rear_wheel_drive</td>\n",
       "      <td>2.0</td>\n",
       "      <td>exotic,high-performance</td>\n",
       "      <td>compact</td>\n",
       "      <td>coupe</td>\n",
       "      <td>15</td>\n",
       "      <td>9</td>\n",
       "      <td>2774</td>\n",
       "      <td>217890</td>\n",
       "    </tr>\n",
       "    <tr>\n",
       "      <th>1</th>\n",
       "      <td>ford</td>\n",
       "      <td>expedition</td>\n",
       "      <td>2016</td>\n",
       "      <td>regular_unleaded</td>\n",
       "      <td>365.0</td>\n",
       "      <td>6.0</td>\n",
       "      <td>automatic</td>\n",
       "      <td>four_wheel_drive</td>\n",
       "      <td>4.0</td>\n",
       "      <td>NaN</td>\n",
       "      <td>large</td>\n",
       "      <td>4dr_suv</td>\n",
       "      <td>20</td>\n",
       "      <td>14</td>\n",
       "      <td>5657</td>\n",
       "      <td>47330</td>\n",
       "    </tr>\n",
       "    <tr>\n",
       "      <th>2</th>\n",
       "      <td>honda</td>\n",
       "      <td>civic</td>\n",
       "      <td>2015</td>\n",
       "      <td>regular_unleaded</td>\n",
       "      <td>143.0</td>\n",
       "      <td>4.0</td>\n",
       "      <td>automatic</td>\n",
       "      <td>front_wheel_drive</td>\n",
       "      <td>4.0</td>\n",
       "      <td>NaN</td>\n",
       "      <td>compact</td>\n",
       "      <td>sedan</td>\n",
       "      <td>39</td>\n",
       "      <td>30</td>\n",
       "      <td>2202</td>\n",
       "      <td>19990</td>\n",
       "    </tr>\n",
       "    <tr>\n",
       "      <th>3</th>\n",
       "      <td>kia</td>\n",
       "      <td>spectra</td>\n",
       "      <td>2008</td>\n",
       "      <td>regular_unleaded</td>\n",
       "      <td>138.0</td>\n",
       "      <td>4.0</td>\n",
       "      <td>manual</td>\n",
       "      <td>front_wheel_drive</td>\n",
       "      <td>4.0</td>\n",
       "      <td>NaN</td>\n",
       "      <td>compact</td>\n",
       "      <td>sedan</td>\n",
       "      <td>30</td>\n",
       "      <td>23</td>\n",
       "      <td>1720</td>\n",
       "      <td>14895</td>\n",
       "    </tr>\n",
       "    <tr>\n",
       "      <th>4</th>\n",
       "      <td>chevrolet</td>\n",
       "      <td>corvette</td>\n",
       "      <td>2016</td>\n",
       "      <td>premium_unleaded_(recommended)</td>\n",
       "      <td>455.0</td>\n",
       "      <td>8.0</td>\n",
       "      <td>manual</td>\n",
       "      <td>rear_wheel_drive</td>\n",
       "      <td>2.0</td>\n",
       "      <td>high-performance</td>\n",
       "      <td>compact</td>\n",
       "      <td>convertible</td>\n",
       "      <td>29</td>\n",
       "      <td>17</td>\n",
       "      <td>1385</td>\n",
       "      <td>63855</td>\n",
       "    </tr>\n",
       "    <tr>\n",
       "      <th>...</th>\n",
       "      <td>...</td>\n",
       "      <td>...</td>\n",
       "      <td>...</td>\n",
       "      <td>...</td>\n",
       "      <td>...</td>\n",
       "      <td>...</td>\n",
       "      <td>...</td>\n",
       "      <td>...</td>\n",
       "      <td>...</td>\n",
       "      <td>...</td>\n",
       "      <td>...</td>\n",
       "      <td>...</td>\n",
       "      <td>...</td>\n",
       "      <td>...</td>\n",
       "      <td>...</td>\n",
       "      <td>...</td>\n",
       "    </tr>\n",
       "    <tr>\n",
       "      <th>7142</th>\n",
       "      <td>dodge</td>\n",
       "      <td>ram_150</td>\n",
       "      <td>1991</td>\n",
       "      <td>regular_unleaded</td>\n",
       "      <td>125.0</td>\n",
       "      <td>6.0</td>\n",
       "      <td>unknown</td>\n",
       "      <td>rear_wheel_drive</td>\n",
       "      <td>2.0</td>\n",
       "      <td>NaN</td>\n",
       "      <td>large</td>\n",
       "      <td>regular_cab_pickup</td>\n",
       "      <td>17</td>\n",
       "      <td>12</td>\n",
       "      <td>1851</td>\n",
       "      <td>2000</td>\n",
       "    </tr>\n",
       "    <tr>\n",
       "      <th>7143</th>\n",
       "      <td>audi</td>\n",
       "      <td>cabriolet</td>\n",
       "      <td>1998</td>\n",
       "      <td>regular_unleaded</td>\n",
       "      <td>172.0</td>\n",
       "      <td>6.0</td>\n",
       "      <td>automatic</td>\n",
       "      <td>front_wheel_drive</td>\n",
       "      <td>2.0</td>\n",
       "      <td>luxury</td>\n",
       "      <td>compact</td>\n",
       "      <td>convertible</td>\n",
       "      <td>22</td>\n",
       "      <td>17</td>\n",
       "      <td>3105</td>\n",
       "      <td>3137</td>\n",
       "    </tr>\n",
       "    <tr>\n",
       "      <th>7144</th>\n",
       "      <td>mazda</td>\n",
       "      <td>3</td>\n",
       "      <td>2016</td>\n",
       "      <td>regular_unleaded</td>\n",
       "      <td>184.0</td>\n",
       "      <td>4.0</td>\n",
       "      <td>automatic</td>\n",
       "      <td>front_wheel_drive</td>\n",
       "      <td>4.0</td>\n",
       "      <td>hatchback,performance</td>\n",
       "      <td>compact</td>\n",
       "      <td>4dr_hatchback</td>\n",
       "      <td>37</td>\n",
       "      <td>27</td>\n",
       "      <td>586</td>\n",
       "      <td>26495</td>\n",
       "    </tr>\n",
       "    <tr>\n",
       "      <th>7145</th>\n",
       "      <td>infiniti</td>\n",
       "      <td>qx50</td>\n",
       "      <td>2015</td>\n",
       "      <td>premium_unleaded_(recommended)</td>\n",
       "      <td>325.0</td>\n",
       "      <td>6.0</td>\n",
       "      <td>automatic</td>\n",
       "      <td>rear_wheel_drive</td>\n",
       "      <td>4.0</td>\n",
       "      <td>crossover,luxury</td>\n",
       "      <td>midsize</td>\n",
       "      <td>4dr_suv</td>\n",
       "      <td>25</td>\n",
       "      <td>17</td>\n",
       "      <td>190</td>\n",
       "      <td>35000</td>\n",
       "    </tr>\n",
       "    <tr>\n",
       "      <th>7146</th>\n",
       "      <td>mazda</td>\n",
       "      <td>mx-5_miata</td>\n",
       "      <td>2015</td>\n",
       "      <td>premium_unleaded_(recommended)</td>\n",
       "      <td>167.0</td>\n",
       "      <td>4.0</td>\n",
       "      <td>manual</td>\n",
       "      <td>rear_wheel_drive</td>\n",
       "      <td>2.0</td>\n",
       "      <td>performance</td>\n",
       "      <td>compact</td>\n",
       "      <td>convertible</td>\n",
       "      <td>28</td>\n",
       "      <td>21</td>\n",
       "      <td>586</td>\n",
       "      <td>32205</td>\n",
       "    </tr>\n",
       "  </tbody>\n",
       "</table>\n",
       "<p>7147 rows × 16 columns</p>\n",
       "</div>"
      ],
      "text/plain": [
       "           make       model  year                engine_fuel_type  engine_hp  \\\n",
       "0       ferrari        575m  2003     premium_unleaded_(required)      515.0   \n",
       "1          ford  expedition  2016                regular_unleaded      365.0   \n",
       "2         honda       civic  2015                regular_unleaded      143.0   \n",
       "3           kia     spectra  2008                regular_unleaded      138.0   \n",
       "4     chevrolet    corvette  2016  premium_unleaded_(recommended)      455.0   \n",
       "...         ...         ...   ...                             ...        ...   \n",
       "7142      dodge     ram_150  1991                regular_unleaded      125.0   \n",
       "7143       audi   cabriolet  1998                regular_unleaded      172.0   \n",
       "7144      mazda           3  2016                regular_unleaded      184.0   \n",
       "7145   infiniti        qx50  2015  premium_unleaded_(recommended)      325.0   \n",
       "7146      mazda  mx-5_miata  2015  premium_unleaded_(recommended)      167.0   \n",
       "\n",
       "      engine_cylinders transmission_type      driven_wheels  number_of_doors  \\\n",
       "0                 12.0            manual   rear_wheel_drive              2.0   \n",
       "1                  6.0         automatic   four_wheel_drive              4.0   \n",
       "2                  4.0         automatic  front_wheel_drive              4.0   \n",
       "3                  4.0            manual  front_wheel_drive              4.0   \n",
       "4                  8.0            manual   rear_wheel_drive              2.0   \n",
       "...                ...               ...                ...              ...   \n",
       "7142               6.0           unknown   rear_wheel_drive              2.0   \n",
       "7143               6.0         automatic  front_wheel_drive              2.0   \n",
       "7144               4.0         automatic  front_wheel_drive              4.0   \n",
       "7145               6.0         automatic   rear_wheel_drive              4.0   \n",
       "7146               4.0            manual   rear_wheel_drive              2.0   \n",
       "\n",
       "              market_category vehicle_size       vehicle_style  highway_mpg  \\\n",
       "0     exotic,high-performance      compact               coupe           15   \n",
       "1                         NaN        large             4dr_suv           20   \n",
       "2                         NaN      compact               sedan           39   \n",
       "3                         NaN      compact               sedan           30   \n",
       "4            high-performance      compact         convertible           29   \n",
       "...                       ...          ...                 ...          ...   \n",
       "7142                      NaN        large  regular_cab_pickup           17   \n",
       "7143                   luxury      compact         convertible           22   \n",
       "7144    hatchback,performance      compact       4dr_hatchback           37   \n",
       "7145         crossover,luxury      midsize             4dr_suv           25   \n",
       "7146              performance      compact         convertible           28   \n",
       "\n",
       "      city_mpg  popularity    msrp  \n",
       "0            9        2774  217890  \n",
       "1           14        5657   47330  \n",
       "2           30        2202   19990  \n",
       "3           23        1720   14895  \n",
       "4           17        1385   63855  \n",
       "...        ...         ...     ...  \n",
       "7142        12        1851    2000  \n",
       "7143        17        3105    3137  \n",
       "7144        27         586   26495  \n",
       "7145        17         190   35000  \n",
       "7146        21         586   32205  \n",
       "\n",
       "[7147 rows x 16 columns]"
      ]
     },
     "execution_count": 31,
     "metadata": {},
     "output_type": "execute_result"
    }
   ],
   "source": [
    "df_train"
   ]
  },
  {
   "cell_type": "code",
   "execution_count": 32,
   "id": "2aa151cd",
   "metadata": {},
   "outputs": [
    {
     "data": {
      "text/plain": [
       "make                          plymouth\n",
       "model                             colt\n",
       "year                              1994\n",
       "engine_fuel_type      regular_unleaded\n",
       "engine_hp                        113.0\n",
       "engine_cylinders                   4.0\n",
       "transmission_type               manual\n",
       "driven_wheels        front_wheel_drive\n",
       "number_of_doors                    4.0\n",
       "market_category                    NaN\n",
       "vehicle_size                   compact\n",
       "vehicle_style                    sedan\n",
       "highway_mpg                         30\n",
       "city_mpg                            23\n",
       "popularity                         535\n",
       "msrp                              2000\n",
       "Name: 10, dtype: object"
      ]
     },
     "execution_count": 32,
     "metadata": {},
     "output_type": "execute_result"
    }
   ],
   "source": [
    "df_train.iloc[10]"
   ]
  },
  {
   "cell_type": "code",
   "execution_count": 33,
   "id": "71fc48b5",
   "metadata": {},
   "outputs": [
    {
     "data": {
      "text/plain": [
       "<function ascii(obj, /)>"
      ]
     },
     "execution_count": 33,
     "metadata": {},
     "output_type": "execute_result"
    }
   ],
   "source": [
    "feature_matrix_columns = ['engine_hp','city_mpg','popularity']\n",
    "target_vector = ['msrp']\n",
    "ascii"
   ]
  },
  {
   "cell_type": "code",
   "execution_count": 34,
   "id": "3f46a583",
   "metadata": {},
   "outputs": [
    {
     "data": {
      "text/plain": [
       "engine_hp     113.0\n",
       "city_mpg         23\n",
       "popularity      535\n",
       "Name: 10, dtype: object"
      ]
     },
     "execution_count": 34,
     "metadata": {},
     "output_type": "execute_result"
    }
   ],
   "source": [
    "df_train.iloc[10][feature_matrix_columns]"
   ]
  },
  {
   "cell_type": "code",
   "execution_count": 35,
   "id": "4213d00e",
   "metadata": {},
   "outputs": [
    {
     "data": {
      "text/plain": [
       "msrp    2000\n",
       "Name: 10, dtype: object"
      ]
     },
     "execution_count": 35,
     "metadata": {},
     "output_type": "execute_result"
    }
   ],
   "source": [
    "df_train.iloc[10][target_vector]"
   ]
  },
  {
   "cell_type": "code",
   "execution_count": 36,
   "id": "ea2b4beb",
   "metadata": {},
   "outputs": [],
   "source": [
    "#initial_condition \n",
    "w0 = 7.17\n",
    "#slope_conditions AKA weight values for each feature\n",
    "w = [0.01,0.04,0.002]"
   ]
  },
  {
   "cell_type": "code",
   "execution_count": 37,
   "id": "40d7c128",
   "metadata": {},
   "outputs": [],
   "source": [
    "slope_conditions = w"
   ]
  },
  {
   "cell_type": "markdown",
   "id": "37349528",
   "metadata": {},
   "source": [
    "Creating linear regression function"
   ]
  },
  {
   "cell_type": "code",
   "execution_count": 38,
   "id": "f8ffcf26",
   "metadata": {},
   "outputs": [],
   "source": [
    "# xi is feature or features of interest and is a vector\n",
    "# w0 is the initial condition\n",
    "# w is the weight of each feature in the feature matrix in the form of a vector that coincides with the feature vector\n",
    "# w is also the slope conditions from above\n",
    "# pred is the prediction value at a given coordinate\n",
    "\n",
    "def linear_regression_func(xi):\n",
    "    n = len(xi)\n",
    "    pred = w0\n",
    "    \n",
    "    for j in range(n):\n",
    "        pred = pred + w[j]*xi[j]\n",
    "    \n",
    "    return pred"
   ]
  },
  {
   "cell_type": "code",
   "execution_count": 39,
   "id": "1dc72837",
   "metadata": {},
   "outputs": [],
   "source": [
    "log_res = linear_regression_func(df_train.iloc[10][feature_matrix_columns])"
   ]
  },
  {
   "cell_type": "code",
   "execution_count": 40,
   "id": "e4450738",
   "metadata": {},
   "outputs": [
    {
     "data": {
      "text/plain": [
       "29435.77435223255"
      ]
     },
     "execution_count": 40,
     "metadata": {},
     "output_type": "execute_result"
    }
   ],
   "source": [
    "np.expm1(log_res)"
   ]
  },
  {
   "cell_type": "markdown",
   "id": "28793300",
   "metadata": {},
   "source": [
    "***\n",
    "# WEEK 2.6\n",
    "\n",
    "***\n",
    "\n",
    "Linear Regression Vector Form"
   ]
  },
  {
   "cell_type": "code",
   "execution_count": 41,
   "id": "b4911029",
   "metadata": {},
   "outputs": [],
   "source": [
    "# xi is the feature matrix\n",
    "# w is the weighting on each feature\n",
    "def dot_product(xi,w):\n",
    "    n = len(xi)\n",
    "    result = 0\n",
    "    \n",
    "    for j in range(n):\n",
    "        result += result + xi[j] * w[j]\n",
    "    \n",
    "    return result"
   ]
  },
  {
   "cell_type": "code",
   "execution_count": 42,
   "id": "33c6bae5",
   "metadata": {},
   "outputs": [],
   "source": [
    "w_new = [w0] + w"
   ]
  },
  {
   "cell_type": "code",
   "execution_count": 43,
   "id": "2e689989",
   "metadata": {},
   "outputs": [],
   "source": [
    "def linear_regression(xi):\n",
    "    xi = [1] + xi\n",
    "    return dot_product(xi, w_new)"
   ]
  },
  {
   "cell_type": "code",
   "execution_count": 44,
   "id": "3b17afbe",
   "metadata": {},
   "outputs": [
    {
     "data": {
      "text/plain": [
       "3291.44"
      ]
     },
     "execution_count": 44,
     "metadata": {},
     "output_type": "execute_result"
    }
   ],
   "source": [
    "linear_regression(df_train.iloc[10][feature_matrix_columns])"
   ]
  },
  {
   "cell_type": "markdown",
   "id": "023de29b",
   "metadata": {},
   "source": [
    "Performing linear regression on multiple rows of data from the dataframe"
   ]
  },
  {
   "cell_type": "code",
   "execution_count": 45,
   "id": "0bd116eb",
   "metadata": {},
   "outputs": [],
   "source": [
    "# X; [x1,x2,x10] is a sample list of lists containing values from the train dataframe\n",
    "x1 = [1] + list(df_train.iloc[1][feature_matrix_columns])\n",
    "x2 = [1] + list(df_train.iloc[2][feature_matrix_columns])\n",
    "x10 = [1] + list(df_train.iloc[10][feature_matrix_columns])\n"
   ]
  },
  {
   "cell_type": "code",
   "execution_count": 46,
   "id": "f5739bc2",
   "metadata": {},
   "outputs": [],
   "source": [
    "X = [x1,x2,x10]\n",
    "X = np.array(X)"
   ]
  },
  {
   "cell_type": "code",
   "execution_count": 47,
   "id": "ee722a40",
   "metadata": {},
   "outputs": [
    {
     "data": {
      "text/plain": [
       "array([[1.000e+00, 3.650e+02, 1.400e+01, 5.657e+03],\n",
       "       [1.000e+00, 1.430e+02, 3.000e+01, 2.202e+03],\n",
       "       [1.000e+00, 1.130e+02, 2.300e+01, 5.350e+02]])"
      ]
     },
     "execution_count": 47,
     "metadata": {},
     "output_type": "execute_result"
    }
   ],
   "source": [
    "X"
   ]
  },
  {
   "cell_type": "code",
   "execution_count": 48,
   "id": "1f306213",
   "metadata": {},
   "outputs": [],
   "source": [
    "def linear_regression_matrix(X):\n",
    "    return X.dot(w_new)"
   ]
  },
  {
   "cell_type": "code",
   "execution_count": 49,
   "id": "c868af5a",
   "metadata": {},
   "outputs": [
    {
     "data": {
      "text/plain": [
       "array([22.694, 14.204, 10.29 ])"
      ]
     },
     "execution_count": 49,
     "metadata": {},
     "output_type": "execute_result"
    }
   ],
   "source": [
    "linear_regression_matrix(X)"
   ]
  },
  {
   "cell_type": "code",
   "execution_count": 50,
   "id": "98a6d953",
   "metadata": {},
   "outputs": [
    {
     "data": {
      "text/plain": [
       "array([[1.000e+00, 3.650e+02, 1.400e+01, 5.657e+03],\n",
       "       [1.000e+00, 1.430e+02, 3.000e+01, 2.202e+03],\n",
       "       [1.000e+00, 1.130e+02, 2.300e+01, 5.350e+02]])"
      ]
     },
     "execution_count": 50,
     "metadata": {},
     "output_type": "execute_result"
    }
   ],
   "source": [
    "X"
   ]
  },
  {
   "cell_type": "markdown",
   "id": "6d1f05fb",
   "metadata": {},
   "source": [
    "***\n",
    "# WEEK 2.7\n",
    "\n",
    "***\n",
    "\n",
    "Training Linear Regression: Normal Equation"
   ]
  },
  {
   "cell_type": "code",
   "execution_count": 51,
   "id": "03b38924",
   "metadata": {},
   "outputs": [],
   "source": [
    "y = [10000,20000,15000,20050,10000,20000,15000,25000,12000]"
   ]
  },
  {
   "cell_type": "code",
   "execution_count": 52,
   "id": "2a32533d",
   "metadata": {},
   "outputs": [],
   "source": [
    "def train_linear_regression(X,y):\n",
    "    ones = np.ones(X.shape[0])\n",
    "    X = np.column_stack([ones,X])\n",
    "\n",
    "    #print('ones:',ones.shape)\n",
    "    \n",
    "    #print('X:',X.shape)\n",
    "\n",
    "    #print('X.t:',X.T.shape)\n",
    "    \n",
    "    #print('X.t dot X:',X.T.dot(X).shape)\n",
    "    \n",
    "    #print('y:',y.shape)\n",
    "    XTX = X.T.dot(X)\n",
    "    inv_XTX = np.linalg.inv(XTX)\n",
    "    w_full = inv_XTX.dot(X.T).dot(y)\n",
    "    \n",
    "    w0 = w_full[0]\n",
    "    w = w_full[1:]\n",
    "    #print(w)\n",
    "    #print(w.shape)\n",
    "    return w0,w"
   ]
  },
  {
   "cell_type": "markdown",
   "id": "29071d17",
   "metadata": {},
   "source": [
    "### Equations\n",
    "\n",
    "\n",
    "- x is the values for each feature per row\n",
    "- X is the set of rows that form a matrix\n",
    "- w0 is the initial value without taking features into account\n",
    "- w(1),w(2),...,w(n) are the weights for each feature\n",
    "- y is the target value for the row or set of rows (matrix)\n",
    "\n",
    "        XW = y\n",
    "\n",
    "        X^T (XW) = X^T (y)\n",
    "\n",
    "        (X^T X)^-1 X^T (XW) = (X^T X)^-1 X^T (y)\n",
    "\n",
    "        IW = W =  (X^T X)^-1 (X^T) (y)\n",
    "\n",
    "        W = X^T X * X^T * y"
   ]
  },
  {
   "cell_type": "markdown",
   "id": "4f908701",
   "metadata": {},
   "source": [
    "This section is directed at learning how to calculate the weights to best fit the linear regression technique"
   ]
  },
  {
   "cell_type": "code",
   "execution_count": 53,
   "id": "524f8984",
   "metadata": {},
   "outputs": [
    {
     "data": {
      "text/plain": [
       "array([[1.000e+00, 1.480e+02, 2.400e+01, 1.385e+03],\n",
       "       [1.000e+00, 1.320e+02, 2.500e+01, 2.031e+03],\n",
       "       [1.000e+00, 4.530e+02, 1.100e+01, 8.600e+01],\n",
       "       [1.000e+00, 1.580e+02, 2.400e+01, 1.385e+03],\n",
       "       [1.000e+00, 1.720e+02, 2.500e+01, 2.031e+03],\n",
       "       [1.000e+00, 4.130e+02, 1.100e+01, 8.600e+01],\n",
       "       [1.000e+00, 3.800e+01, 5.400e+01, 1.850e+02],\n",
       "       [1.000e+00, 1.320e+02, 2.500e+01, 4.310e+02],\n",
       "       [1.000e+00, 4.530e+02, 3.100e+01, 8.600e+01]])"
      ]
     },
     "execution_count": 53,
     "metadata": {},
     "output_type": "execute_result"
    }
   ],
   "source": [
    "X = [[148,24,1385],\n",
    "     [132,25,2031],\n",
    "     [453,11,86],\n",
    "     [158,24,1385],\n",
    "     [172,25,2031],\n",
    "     [413,11,86],\n",
    "     [38,54,185],\n",
    "     [132,25,431],\n",
    "     [453,31,86]\n",
    "    ]\n",
    "X = np.array(X)\n",
    "\n",
    "ones = np.ones(X.shape[0])\n",
    "X = np.column_stack([ones,X])\n",
    "X"
   ]
  },
  {
   "cell_type": "code",
   "execution_count": 54,
   "id": "4462f81f",
   "metadata": {},
   "outputs": [
    {
     "data": {
      "text/plain": [
       "(9, 4)"
      ]
     },
     "execution_count": 54,
     "metadata": {},
     "output_type": "execute_result"
    }
   ],
   "source": [
    "X.shape"
   ]
  },
  {
   "cell_type": "code",
   "execution_count": 55,
   "id": "8b85f87f",
   "metadata": {},
   "outputs": [],
   "source": [
    "XTX = X.T.dot(X)"
   ]
  },
  {
   "cell_type": "code",
   "execution_count": 56,
   "id": "5c643e4d",
   "metadata": {},
   "outputs": [],
   "source": [
    "XTX_inv = np.linalg.inv(XTX)"
   ]
  },
  {
   "cell_type": "code",
   "execution_count": 57,
   "id": "2f666994",
   "metadata": {},
   "outputs": [],
   "source": [
    "y = [100,200,150,250,100,200,150,250,120]"
   ]
  },
  {
   "cell_type": "code",
   "execution_count": 58,
   "id": "ed6637b4",
   "metadata": {},
   "outputs": [],
   "source": [
    "w_full = XTX_inv.dot(X.T).dot(y)"
   ]
  },
  {
   "cell_type": "code",
   "execution_count": 59,
   "id": "edb19812",
   "metadata": {},
   "outputs": [
    {
     "data": {
      "text/plain": [
       "array([ 3.95818750e+02, -3.79700956e-01, -3.86519131e+00, -4.62473974e-02])"
      ]
     },
     "execution_count": 59,
     "metadata": {},
     "output_type": "execute_result"
    }
   ],
   "source": [
    "w_full"
   ]
  },
  {
   "cell_type": "code",
   "execution_count": 60,
   "id": "6525caa5",
   "metadata": {},
   "outputs": [],
   "source": [
    "w[0] = w_full[0]\n",
    "w = w_full[1:]"
   ]
  },
  {
   "cell_type": "code",
   "execution_count": 61,
   "id": "4f37e099",
   "metadata": {},
   "outputs": [
    {
     "data": {
      "text/plain": [
       "array([-0.37970096, -3.86519131, -0.0462474 ])"
      ]
     },
     "execution_count": 61,
     "metadata": {},
     "output_type": "execute_result"
    }
   ],
   "source": [
    "w\n"
   ]
  },
  {
   "cell_type": "code",
   "execution_count": 63,
   "id": "5cce7d7a",
   "metadata": {},
   "outputs": [
    {
     "ename": "LinAlgError",
     "evalue": "Singular matrix",
     "output_type": "error",
     "traceback": [
      "\u001b[0;31m---------------------------------------------------------------------------\u001b[0m",
      "\u001b[0;31mLinAlgError\u001b[0m                               Traceback (most recent call last)",
      "Input \u001b[0;32mIn [63]\u001b[0m, in \u001b[0;36m<cell line: 1>\u001b[0;34m()\u001b[0m\n\u001b[0;32m----> 1\u001b[0m w0, w \u001b[38;5;241m=\u001b[39m \u001b[43mtrain_linear_regression\u001b[49m\u001b[43m(\u001b[49m\u001b[43mX\u001b[49m\u001b[43m,\u001b[49m\u001b[43my\u001b[49m\u001b[43m)\u001b[49m\n",
      "Input \u001b[0;32mIn [52]\u001b[0m, in \u001b[0;36mtrain_linear_regression\u001b[0;34m(X, y)\u001b[0m\n\u001b[1;32m      5\u001b[0m \u001b[38;5;66;03m#print('ones:',ones.shape)\u001b[39;00m\n\u001b[1;32m      6\u001b[0m \n\u001b[1;32m      7\u001b[0m \u001b[38;5;66;03m#print('X:',X.shape)\u001b[39;00m\n\u001b[0;32m   (...)\u001b[0m\n\u001b[1;32m     12\u001b[0m \n\u001b[1;32m     13\u001b[0m \u001b[38;5;66;03m#print('y:',y.shape)\u001b[39;00m\n\u001b[1;32m     14\u001b[0m XTX \u001b[38;5;241m=\u001b[39m X\u001b[38;5;241m.\u001b[39mT\u001b[38;5;241m.\u001b[39mdot(X)\n\u001b[0;32m---> 15\u001b[0m inv_XTX \u001b[38;5;241m=\u001b[39m \u001b[43mnp\u001b[49m\u001b[38;5;241;43m.\u001b[39;49m\u001b[43mlinalg\u001b[49m\u001b[38;5;241;43m.\u001b[39;49m\u001b[43minv\u001b[49m\u001b[43m(\u001b[49m\u001b[43mXTX\u001b[49m\u001b[43m)\u001b[49m\n\u001b[1;32m     16\u001b[0m w_full \u001b[38;5;241m=\u001b[39m inv_XTX\u001b[38;5;241m.\u001b[39mdot(X\u001b[38;5;241m.\u001b[39mT)\u001b[38;5;241m.\u001b[39mdot(y)\n\u001b[1;32m     18\u001b[0m w0 \u001b[38;5;241m=\u001b[39m w_full[\u001b[38;5;241m0\u001b[39m]\n",
      "File \u001b[0;32m<__array_function__ internals>:5\u001b[0m, in \u001b[0;36minv\u001b[0;34m(*args, **kwargs)\u001b[0m\n",
      "File \u001b[0;32m~/opt/anaconda3/lib/python3.8/site-packages/numpy/linalg/linalg.py:545\u001b[0m, in \u001b[0;36minv\u001b[0;34m(a)\u001b[0m\n\u001b[1;32m    543\u001b[0m signature \u001b[38;5;241m=\u001b[39m \u001b[38;5;124m'\u001b[39m\u001b[38;5;124mD->D\u001b[39m\u001b[38;5;124m'\u001b[39m \u001b[38;5;28;01mif\u001b[39;00m isComplexType(t) \u001b[38;5;28;01melse\u001b[39;00m \u001b[38;5;124m'\u001b[39m\u001b[38;5;124md->d\u001b[39m\u001b[38;5;124m'\u001b[39m\n\u001b[1;32m    544\u001b[0m extobj \u001b[38;5;241m=\u001b[39m get_linalg_error_extobj(_raise_linalgerror_singular)\n\u001b[0;32m--> 545\u001b[0m ainv \u001b[38;5;241m=\u001b[39m \u001b[43m_umath_linalg\u001b[49m\u001b[38;5;241;43m.\u001b[39;49m\u001b[43minv\u001b[49m\u001b[43m(\u001b[49m\u001b[43ma\u001b[49m\u001b[43m,\u001b[49m\u001b[43m \u001b[49m\u001b[43msignature\u001b[49m\u001b[38;5;241;43m=\u001b[39;49m\u001b[43msignature\u001b[49m\u001b[43m,\u001b[49m\u001b[43m \u001b[49m\u001b[43mextobj\u001b[49m\u001b[38;5;241;43m=\u001b[39;49m\u001b[43mextobj\u001b[49m\u001b[43m)\u001b[49m\n\u001b[1;32m    546\u001b[0m \u001b[38;5;28;01mreturn\u001b[39;00m wrap(ainv\u001b[38;5;241m.\u001b[39mastype(result_t, copy\u001b[38;5;241m=\u001b[39m\u001b[38;5;28;01mFalse\u001b[39;00m))\n",
      "File \u001b[0;32m~/opt/anaconda3/lib/python3.8/site-packages/numpy/linalg/linalg.py:88\u001b[0m, in \u001b[0;36m_raise_linalgerror_singular\u001b[0;34m(err, flag)\u001b[0m\n\u001b[1;32m     87\u001b[0m \u001b[38;5;28;01mdef\u001b[39;00m \u001b[38;5;21m_raise_linalgerror_singular\u001b[39m(err, flag):\n\u001b[0;32m---> 88\u001b[0m     \u001b[38;5;28;01mraise\u001b[39;00m LinAlgError(\u001b[38;5;124m\"\u001b[39m\u001b[38;5;124mSingular matrix\u001b[39m\u001b[38;5;124m\"\u001b[39m)\n",
      "\u001b[0;31mLinAlgError\u001b[0m: Singular matrix"
     ]
    }
   ],
   "source": [
    "w0, w = train_linear_regression(X,y)"
   ]
  },
  {
   "cell_type": "code",
   "execution_count": 64,
   "id": "342887fd",
   "metadata": {},
   "outputs": [
    {
     "data": {
      "text/plain": [
       "7.17"
      ]
     },
     "execution_count": 64,
     "metadata": {},
     "output_type": "execute_result"
    }
   ],
   "source": [
    "w0"
   ]
  },
  {
   "cell_type": "code",
   "execution_count": 65,
   "id": "c9073099",
   "metadata": {},
   "outputs": [
    {
     "data": {
      "text/plain": [
       "array([-0.37970096, -3.86519131, -0.0462474 ])"
      ]
     },
     "execution_count": 65,
     "metadata": {},
     "output_type": "execute_result"
    }
   ],
   "source": [
    "w"
   ]
  },
  {
   "cell_type": "markdown",
   "id": "020c7623",
   "metadata": {},
   "source": [
    "***\n",
    "# WEEK 2.8\n",
    "\n",
    "***\n",
    "\n",
    "Baseline Model for Car Price Prediction"
   ]
  },
  {
   "cell_type": "code",
   "execution_count": 66,
   "id": "f958fe08",
   "metadata": {},
   "outputs": [
    {
     "data": {
      "text/html": [
       "<div>\n",
       "<style scoped>\n",
       "    .dataframe tbody tr th:only-of-type {\n",
       "        vertical-align: middle;\n",
       "    }\n",
       "\n",
       "    .dataframe tbody tr th {\n",
       "        vertical-align: top;\n",
       "    }\n",
       "\n",
       "    .dataframe thead th {\n",
       "        text-align: right;\n",
       "    }\n",
       "</style>\n",
       "<table border=\"1\" class=\"dataframe\">\n",
       "  <thead>\n",
       "    <tr style=\"text-align: right;\">\n",
       "      <th></th>\n",
       "      <th>make</th>\n",
       "      <th>model</th>\n",
       "      <th>year</th>\n",
       "      <th>engine_fuel_type</th>\n",
       "      <th>engine_hp</th>\n",
       "      <th>engine_cylinders</th>\n",
       "      <th>transmission_type</th>\n",
       "      <th>driven_wheels</th>\n",
       "      <th>number_of_doors</th>\n",
       "      <th>market_category</th>\n",
       "      <th>vehicle_size</th>\n",
       "      <th>vehicle_style</th>\n",
       "      <th>highway_mpg</th>\n",
       "      <th>city_mpg</th>\n",
       "      <th>popularity</th>\n",
       "      <th>msrp</th>\n",
       "    </tr>\n",
       "  </thead>\n",
       "  <tbody>\n",
       "    <tr>\n",
       "      <th>0</th>\n",
       "      <td>ferrari</td>\n",
       "      <td>575m</td>\n",
       "      <td>2003</td>\n",
       "      <td>premium_unleaded_(required)</td>\n",
       "      <td>515.0</td>\n",
       "      <td>12.0</td>\n",
       "      <td>manual</td>\n",
       "      <td>rear_wheel_drive</td>\n",
       "      <td>2.0</td>\n",
       "      <td>exotic,high-performance</td>\n",
       "      <td>compact</td>\n",
       "      <td>coupe</td>\n",
       "      <td>15</td>\n",
       "      <td>9</td>\n",
       "      <td>2774</td>\n",
       "      <td>217890</td>\n",
       "    </tr>\n",
       "    <tr>\n",
       "      <th>1</th>\n",
       "      <td>ford</td>\n",
       "      <td>expedition</td>\n",
       "      <td>2016</td>\n",
       "      <td>regular_unleaded</td>\n",
       "      <td>365.0</td>\n",
       "      <td>6.0</td>\n",
       "      <td>automatic</td>\n",
       "      <td>four_wheel_drive</td>\n",
       "      <td>4.0</td>\n",
       "      <td>NaN</td>\n",
       "      <td>large</td>\n",
       "      <td>4dr_suv</td>\n",
       "      <td>20</td>\n",
       "      <td>14</td>\n",
       "      <td>5657</td>\n",
       "      <td>47330</td>\n",
       "    </tr>\n",
       "    <tr>\n",
       "      <th>2</th>\n",
       "      <td>honda</td>\n",
       "      <td>civic</td>\n",
       "      <td>2015</td>\n",
       "      <td>regular_unleaded</td>\n",
       "      <td>143.0</td>\n",
       "      <td>4.0</td>\n",
       "      <td>automatic</td>\n",
       "      <td>front_wheel_drive</td>\n",
       "      <td>4.0</td>\n",
       "      <td>NaN</td>\n",
       "      <td>compact</td>\n",
       "      <td>sedan</td>\n",
       "      <td>39</td>\n",
       "      <td>30</td>\n",
       "      <td>2202</td>\n",
       "      <td>19990</td>\n",
       "    </tr>\n",
       "    <tr>\n",
       "      <th>3</th>\n",
       "      <td>kia</td>\n",
       "      <td>spectra</td>\n",
       "      <td>2008</td>\n",
       "      <td>regular_unleaded</td>\n",
       "      <td>138.0</td>\n",
       "      <td>4.0</td>\n",
       "      <td>manual</td>\n",
       "      <td>front_wheel_drive</td>\n",
       "      <td>4.0</td>\n",
       "      <td>NaN</td>\n",
       "      <td>compact</td>\n",
       "      <td>sedan</td>\n",
       "      <td>30</td>\n",
       "      <td>23</td>\n",
       "      <td>1720</td>\n",
       "      <td>14895</td>\n",
       "    </tr>\n",
       "    <tr>\n",
       "      <th>4</th>\n",
       "      <td>chevrolet</td>\n",
       "      <td>corvette</td>\n",
       "      <td>2016</td>\n",
       "      <td>premium_unleaded_(recommended)</td>\n",
       "      <td>455.0</td>\n",
       "      <td>8.0</td>\n",
       "      <td>manual</td>\n",
       "      <td>rear_wheel_drive</td>\n",
       "      <td>2.0</td>\n",
       "      <td>high-performance</td>\n",
       "      <td>compact</td>\n",
       "      <td>convertible</td>\n",
       "      <td>29</td>\n",
       "      <td>17</td>\n",
       "      <td>1385</td>\n",
       "      <td>63855</td>\n",
       "    </tr>\n",
       "    <tr>\n",
       "      <th>...</th>\n",
       "      <td>...</td>\n",
       "      <td>...</td>\n",
       "      <td>...</td>\n",
       "      <td>...</td>\n",
       "      <td>...</td>\n",
       "      <td>...</td>\n",
       "      <td>...</td>\n",
       "      <td>...</td>\n",
       "      <td>...</td>\n",
       "      <td>...</td>\n",
       "      <td>...</td>\n",
       "      <td>...</td>\n",
       "      <td>...</td>\n",
       "      <td>...</td>\n",
       "      <td>...</td>\n",
       "      <td>...</td>\n",
       "    </tr>\n",
       "    <tr>\n",
       "      <th>7142</th>\n",
       "      <td>dodge</td>\n",
       "      <td>ram_150</td>\n",
       "      <td>1991</td>\n",
       "      <td>regular_unleaded</td>\n",
       "      <td>125.0</td>\n",
       "      <td>6.0</td>\n",
       "      <td>unknown</td>\n",
       "      <td>rear_wheel_drive</td>\n",
       "      <td>2.0</td>\n",
       "      <td>NaN</td>\n",
       "      <td>large</td>\n",
       "      <td>regular_cab_pickup</td>\n",
       "      <td>17</td>\n",
       "      <td>12</td>\n",
       "      <td>1851</td>\n",
       "      <td>2000</td>\n",
       "    </tr>\n",
       "    <tr>\n",
       "      <th>7143</th>\n",
       "      <td>audi</td>\n",
       "      <td>cabriolet</td>\n",
       "      <td>1998</td>\n",
       "      <td>regular_unleaded</td>\n",
       "      <td>172.0</td>\n",
       "      <td>6.0</td>\n",
       "      <td>automatic</td>\n",
       "      <td>front_wheel_drive</td>\n",
       "      <td>2.0</td>\n",
       "      <td>luxury</td>\n",
       "      <td>compact</td>\n",
       "      <td>convertible</td>\n",
       "      <td>22</td>\n",
       "      <td>17</td>\n",
       "      <td>3105</td>\n",
       "      <td>3137</td>\n",
       "    </tr>\n",
       "    <tr>\n",
       "      <th>7144</th>\n",
       "      <td>mazda</td>\n",
       "      <td>3</td>\n",
       "      <td>2016</td>\n",
       "      <td>regular_unleaded</td>\n",
       "      <td>184.0</td>\n",
       "      <td>4.0</td>\n",
       "      <td>automatic</td>\n",
       "      <td>front_wheel_drive</td>\n",
       "      <td>4.0</td>\n",
       "      <td>hatchback,performance</td>\n",
       "      <td>compact</td>\n",
       "      <td>4dr_hatchback</td>\n",
       "      <td>37</td>\n",
       "      <td>27</td>\n",
       "      <td>586</td>\n",
       "      <td>26495</td>\n",
       "    </tr>\n",
       "    <tr>\n",
       "      <th>7145</th>\n",
       "      <td>infiniti</td>\n",
       "      <td>qx50</td>\n",
       "      <td>2015</td>\n",
       "      <td>premium_unleaded_(recommended)</td>\n",
       "      <td>325.0</td>\n",
       "      <td>6.0</td>\n",
       "      <td>automatic</td>\n",
       "      <td>rear_wheel_drive</td>\n",
       "      <td>4.0</td>\n",
       "      <td>crossover,luxury</td>\n",
       "      <td>midsize</td>\n",
       "      <td>4dr_suv</td>\n",
       "      <td>25</td>\n",
       "      <td>17</td>\n",
       "      <td>190</td>\n",
       "      <td>35000</td>\n",
       "    </tr>\n",
       "    <tr>\n",
       "      <th>7146</th>\n",
       "      <td>mazda</td>\n",
       "      <td>mx-5_miata</td>\n",
       "      <td>2015</td>\n",
       "      <td>premium_unleaded_(recommended)</td>\n",
       "      <td>167.0</td>\n",
       "      <td>4.0</td>\n",
       "      <td>manual</td>\n",
       "      <td>rear_wheel_drive</td>\n",
       "      <td>2.0</td>\n",
       "      <td>performance</td>\n",
       "      <td>compact</td>\n",
       "      <td>convertible</td>\n",
       "      <td>28</td>\n",
       "      <td>21</td>\n",
       "      <td>586</td>\n",
       "      <td>32205</td>\n",
       "    </tr>\n",
       "  </tbody>\n",
       "</table>\n",
       "<p>7147 rows × 16 columns</p>\n",
       "</div>"
      ],
      "text/plain": [
       "           make       model  year                engine_fuel_type  engine_hp  \\\n",
       "0       ferrari        575m  2003     premium_unleaded_(required)      515.0   \n",
       "1          ford  expedition  2016                regular_unleaded      365.0   \n",
       "2         honda       civic  2015                regular_unleaded      143.0   \n",
       "3           kia     spectra  2008                regular_unleaded      138.0   \n",
       "4     chevrolet    corvette  2016  premium_unleaded_(recommended)      455.0   \n",
       "...         ...         ...   ...                             ...        ...   \n",
       "7142      dodge     ram_150  1991                regular_unleaded      125.0   \n",
       "7143       audi   cabriolet  1998                regular_unleaded      172.0   \n",
       "7144      mazda           3  2016                regular_unleaded      184.0   \n",
       "7145   infiniti        qx50  2015  premium_unleaded_(recommended)      325.0   \n",
       "7146      mazda  mx-5_miata  2015  premium_unleaded_(recommended)      167.0   \n",
       "\n",
       "      engine_cylinders transmission_type      driven_wheels  number_of_doors  \\\n",
       "0                 12.0            manual   rear_wheel_drive              2.0   \n",
       "1                  6.0         automatic   four_wheel_drive              4.0   \n",
       "2                  4.0         automatic  front_wheel_drive              4.0   \n",
       "3                  4.0            manual  front_wheel_drive              4.0   \n",
       "4                  8.0            manual   rear_wheel_drive              2.0   \n",
       "...                ...               ...                ...              ...   \n",
       "7142               6.0           unknown   rear_wheel_drive              2.0   \n",
       "7143               6.0         automatic  front_wheel_drive              2.0   \n",
       "7144               4.0         automatic  front_wheel_drive              4.0   \n",
       "7145               6.0         automatic   rear_wheel_drive              4.0   \n",
       "7146               4.0            manual   rear_wheel_drive              2.0   \n",
       "\n",
       "              market_category vehicle_size       vehicle_style  highway_mpg  \\\n",
       "0     exotic,high-performance      compact               coupe           15   \n",
       "1                         NaN        large             4dr_suv           20   \n",
       "2                         NaN      compact               sedan           39   \n",
       "3                         NaN      compact               sedan           30   \n",
       "4            high-performance      compact         convertible           29   \n",
       "...                       ...          ...                 ...          ...   \n",
       "7142                      NaN        large  regular_cab_pickup           17   \n",
       "7143                   luxury      compact         convertible           22   \n",
       "7144    hatchback,performance      compact       4dr_hatchback           37   \n",
       "7145         crossover,luxury      midsize             4dr_suv           25   \n",
       "7146              performance      compact         convertible           28   \n",
       "\n",
       "      city_mpg  popularity    msrp  \n",
       "0            9        2774  217890  \n",
       "1           14        5657   47330  \n",
       "2           30        2202   19990  \n",
       "3           23        1720   14895  \n",
       "4           17        1385   63855  \n",
       "...        ...         ...     ...  \n",
       "7142        12        1851    2000  \n",
       "7143        17        3105    3137  \n",
       "7144        27         586   26495  \n",
       "7145        17         190   35000  \n",
       "7146        21         586   32205  \n",
       "\n",
       "[7147 rows x 16 columns]"
      ]
     },
     "execution_count": 66,
     "metadata": {},
     "output_type": "execute_result"
    }
   ],
   "source": [
    "df_train"
   ]
  },
  {
   "cell_type": "code",
   "execution_count": 67,
   "id": "26486911",
   "metadata": {},
   "outputs": [
    {
     "data": {
      "text/plain": [
       "make                  object\n",
       "model                 object\n",
       "year                   int64\n",
       "engine_fuel_type      object\n",
       "engine_hp            float64\n",
       "engine_cylinders     float64\n",
       "transmission_type     object\n",
       "driven_wheels         object\n",
       "number_of_doors      float64\n",
       "market_category       object\n",
       "vehicle_size          object\n",
       "vehicle_style         object\n",
       "highway_mpg            int64\n",
       "city_mpg               int64\n",
       "popularity             int64\n",
       "msrp                   int64\n",
       "dtype: object"
      ]
     },
     "execution_count": 67,
     "metadata": {},
     "output_type": "execute_result"
    }
   ],
   "source": [
    "df_train.dtypes"
   ]
  },
  {
   "cell_type": "code",
   "execution_count": 68,
   "id": "39e78ec2",
   "metadata": {},
   "outputs": [],
   "source": [
    "base  = ['engine_hp','engine_cylinders', 'highway_mpg','city_mpg','popularity']"
   ]
  },
  {
   "cell_type": "code",
   "execution_count": 69,
   "id": "b729d2b6",
   "metadata": {},
   "outputs": [],
   "source": [
    "#base = df_train.select_dtypes(['int','float']).columns\n",
    "#base"
   ]
  },
  {
   "cell_type": "code",
   "execution_count": 70,
   "id": "9085c605",
   "metadata": {},
   "outputs": [
    {
     "data": {
      "text/html": [
       "<div>\n",
       "<style scoped>\n",
       "    .dataframe tbody tr th:only-of-type {\n",
       "        vertical-align: middle;\n",
       "    }\n",
       "\n",
       "    .dataframe tbody tr th {\n",
       "        vertical-align: top;\n",
       "    }\n",
       "\n",
       "    .dataframe thead th {\n",
       "        text-align: right;\n",
       "    }\n",
       "</style>\n",
       "<table border=\"1\" class=\"dataframe\">\n",
       "  <thead>\n",
       "    <tr style=\"text-align: right;\">\n",
       "      <th></th>\n",
       "      <th>engine_hp</th>\n",
       "      <th>engine_cylinders</th>\n",
       "      <th>highway_mpg</th>\n",
       "      <th>city_mpg</th>\n",
       "      <th>popularity</th>\n",
       "    </tr>\n",
       "  </thead>\n",
       "  <tbody>\n",
       "    <tr>\n",
       "      <th>0</th>\n",
       "      <td>515.0</td>\n",
       "      <td>12.0</td>\n",
       "      <td>15</td>\n",
       "      <td>9</td>\n",
       "      <td>2774</td>\n",
       "    </tr>\n",
       "    <tr>\n",
       "      <th>1</th>\n",
       "      <td>365.0</td>\n",
       "      <td>6.0</td>\n",
       "      <td>20</td>\n",
       "      <td>14</td>\n",
       "      <td>5657</td>\n",
       "    </tr>\n",
       "    <tr>\n",
       "      <th>2</th>\n",
       "      <td>143.0</td>\n",
       "      <td>4.0</td>\n",
       "      <td>39</td>\n",
       "      <td>30</td>\n",
       "      <td>2202</td>\n",
       "    </tr>\n",
       "    <tr>\n",
       "      <th>3</th>\n",
       "      <td>138.0</td>\n",
       "      <td>4.0</td>\n",
       "      <td>30</td>\n",
       "      <td>23</td>\n",
       "      <td>1720</td>\n",
       "    </tr>\n",
       "    <tr>\n",
       "      <th>4</th>\n",
       "      <td>455.0</td>\n",
       "      <td>8.0</td>\n",
       "      <td>29</td>\n",
       "      <td>17</td>\n",
       "      <td>1385</td>\n",
       "    </tr>\n",
       "    <tr>\n",
       "      <th>...</th>\n",
       "      <td>...</td>\n",
       "      <td>...</td>\n",
       "      <td>...</td>\n",
       "      <td>...</td>\n",
       "      <td>...</td>\n",
       "    </tr>\n",
       "    <tr>\n",
       "      <th>7142</th>\n",
       "      <td>125.0</td>\n",
       "      <td>6.0</td>\n",
       "      <td>17</td>\n",
       "      <td>12</td>\n",
       "      <td>1851</td>\n",
       "    </tr>\n",
       "    <tr>\n",
       "      <th>7143</th>\n",
       "      <td>172.0</td>\n",
       "      <td>6.0</td>\n",
       "      <td>22</td>\n",
       "      <td>17</td>\n",
       "      <td>3105</td>\n",
       "    </tr>\n",
       "    <tr>\n",
       "      <th>7144</th>\n",
       "      <td>184.0</td>\n",
       "      <td>4.0</td>\n",
       "      <td>37</td>\n",
       "      <td>27</td>\n",
       "      <td>586</td>\n",
       "    </tr>\n",
       "    <tr>\n",
       "      <th>7145</th>\n",
       "      <td>325.0</td>\n",
       "      <td>6.0</td>\n",
       "      <td>25</td>\n",
       "      <td>17</td>\n",
       "      <td>190</td>\n",
       "    </tr>\n",
       "    <tr>\n",
       "      <th>7146</th>\n",
       "      <td>167.0</td>\n",
       "      <td>4.0</td>\n",
       "      <td>28</td>\n",
       "      <td>21</td>\n",
       "      <td>586</td>\n",
       "    </tr>\n",
       "  </tbody>\n",
       "</table>\n",
       "<p>7147 rows × 5 columns</p>\n",
       "</div>"
      ],
      "text/plain": [
       "      engine_hp  engine_cylinders  highway_mpg  city_mpg  popularity\n",
       "0         515.0              12.0           15         9        2774\n",
       "1         365.0               6.0           20        14        5657\n",
       "2         143.0               4.0           39        30        2202\n",
       "3         138.0               4.0           30        23        1720\n",
       "4         455.0               8.0           29        17        1385\n",
       "...         ...               ...          ...       ...         ...\n",
       "7142      125.0               6.0           17        12        1851\n",
       "7143      172.0               6.0           22        17        3105\n",
       "7144      184.0               4.0           37        27         586\n",
       "7145      325.0               6.0           25        17         190\n",
       "7146      167.0               4.0           28        21         586\n",
       "\n",
       "[7147 rows x 5 columns]"
      ]
     },
     "execution_count": 70,
     "metadata": {},
     "output_type": "execute_result"
    }
   ],
   "source": [
    "df_train[base]"
   ]
  },
  {
   "cell_type": "markdown",
   "id": "dad1a02d",
   "metadata": {},
   "source": [
    "Creating the X matrix for the linear regression function"
   ]
  },
  {
   "cell_type": "code",
   "execution_count": 71,
   "id": "182d423f",
   "metadata": {},
   "outputs": [],
   "source": [
    "X_train = df_train[base].fillna(0).values"
   ]
  },
  {
   "cell_type": "code",
   "execution_count": 72,
   "id": "3ed156bf",
   "metadata": {},
   "outputs": [],
   "source": [
    "y_train = np.array(df_train['msrp'])"
   ]
  },
  {
   "cell_type": "code",
   "execution_count": 73,
   "id": "47603a7e",
   "metadata": {},
   "outputs": [
    {
     "data": {
      "text/plain": [
       "(7147,)"
      ]
     },
     "execution_count": 73,
     "metadata": {},
     "output_type": "execute_result"
    }
   ],
   "source": [
    "y_train.shape"
   ]
  },
  {
   "cell_type": "code",
   "execution_count": 74,
   "id": "d61a531a",
   "metadata": {},
   "outputs": [
    {
     "data": {
      "text/plain": [
       "(7147, 5)"
      ]
     },
     "execution_count": 74,
     "metadata": {},
     "output_type": "execute_result"
    }
   ],
   "source": [
    "X_train.shape"
   ]
  },
  {
   "cell_type": "code",
   "execution_count": 75,
   "id": "64ba6367",
   "metadata": {},
   "outputs": [],
   "source": [
    "w0, w = train_linear_regression(X_train,y_train)"
   ]
  },
  {
   "cell_type": "code",
   "execution_count": 76,
   "id": "90f34bef",
   "metadata": {},
   "outputs": [],
   "source": [
    "y_pred = np.array(w0 + X_train.dot(w))"
   ]
  },
  {
   "cell_type": "code",
   "execution_count": 77,
   "id": "a0084446",
   "metadata": {},
   "outputs": [],
   "source": [
    "for x in range(len(y_pred)):\n",
    "    if y_pred[x] < 0:\n",
    "        y_pred[x] = np.nan\n"
   ]
  },
  {
   "cell_type": "code",
   "execution_count": 78,
   "id": "dde4ed23",
   "metadata": {},
   "outputs": [
    {
     "data": {
      "image/png": "[encoded data removed]",
      "text/plain": [
       "<Figure size 432x288 with 1 Axes>"
      ]
     },
     "metadata": {
      "needs_background": "light"
     },
     "output_type": "display_data"
    }
   ],
   "source": [
    "sns.histplot(np.log1p(y_pred),color = 'r', bins = 50, alpha = 0.5, label = 'Target')\n",
    "sns.histplot(np.log1p(y_train), color = 'b', bins = 50 ,  alpha = 0.5, label = 'Prediction')\n",
    "\n",
    "plt.legend()\n",
    "plt.show()"
   ]
  },
  {
   "cell_type": "markdown",
   "id": "bf3c1e10",
   "metadata": {},
   "source": [
    "***\n",
    "# WEEK 2.9\n",
    "\n",
    "***\n",
    "\n",
    "Root Mean Square Error"
   ]
  },
  {
   "cell_type": "markdown",
   "id": "84bb95f1",
   "metadata": {},
   "source": [
    "RMSE is the square root of the sum of differences squared divded by the number of differences"
   ]
  },
  {
   "cell_type": "raw",
   "id": "3d172dcb",
   "metadata": {},
   "source": [
    "RMSE = sqrt(avg( * sum( (pred(x) - actual(x)) )**2 ) )"
   ]
  },
  {
   "cell_type": "code",
   "execution_count": 79,
   "id": "23cfe71b",
   "metadata": {},
   "outputs": [],
   "source": [
    "# y_pred is the prediction\n",
    "# y_train is the actual value\n",
    "def rmse (actual,pred):\n",
    "    error = actual - pred\n",
    "    se = error ** 2\n",
    "    mse = se.mean()\n",
    "    return np.sqrt(mse)"
   ]
  },
  {
   "cell_type": "code",
   "execution_count": 80,
   "id": "a295559f",
   "metadata": {},
   "outputs": [
    {
     "data": {
      "text/plain": [
       "nan"
      ]
     },
     "execution_count": 80,
     "metadata": {},
     "output_type": "execute_result"
    }
   ],
   "source": [
    "rmse(y_train,y_pred)"
   ]
  },
  {
   "cell_type": "markdown",
   "id": "9b798675",
   "metadata": {},
   "source": [
    "***\n",
    "# WEEK 2.10\n",
    "\n",
    "***\n",
    "\n",
    "Computing RMSE on Validation Data"
   ]
  },
  {
   "cell_type": "code",
   "execution_count": 81,
   "id": "bb6c2066",
   "metadata": {},
   "outputs": [],
   "source": [
    "base  = ['engine_hp','engine_cylinders', 'highway_mpg','city_mpg','popularity']\n",
    "\n",
    "X_train = df_train[base].fillna(0).values\n",
    "y_train = np.array(df_train['msrp'])\n",
    "\n",
    "w0, w = train_linear_regression(X_train,y_train)\n",
    "\n",
    "y_pred = np.array(w0 + X_train.dot(w))"
   ]
  },
  {
   "cell_type": "code",
   "execution_count": 82,
   "id": "c9e978e6",
   "metadata": {},
   "outputs": [],
   "source": [
    "def prepare(df,features,target):\n",
    "    df_num = df[features].fillna(0).values\n",
    "    y = np.array(df[target])\n",
    "\n",
    "    w0, w = train_linear_regression(X,y)\n",
    "\n",
    "    y_pred = np.array(w0 + X_.dot(w))"
   ]
  },
  {
   "cell_type": "code",
   "execution_count": 83,
   "id": "c1cb2a3d",
   "metadata": {},
   "outputs": [],
   "source": [
    "def prepare_X(df,features):\n",
    "    df_num = df[features]\n",
    "    df_num = df_num.fillna(0)\n",
    "    X = df_num.values\n",
    "    return X"
   ]
  },
  {
   "cell_type": "code",
   "execution_count": 84,
   "id": "eaa9a749",
   "metadata": {},
   "outputs": [],
   "source": [
    "X_val = prepare_X(df_validate,base)"
   ]
  },
  {
   "cell_type": "code",
   "execution_count": 85,
   "id": "fd2caad5",
   "metadata": {},
   "outputs": [
    {
     "data": {
      "text/plain": [
       "array([[ 285.,    6.,   20.,   14.,  549.],\n",
       "       [ 354.,    6.,   24.,   17., 3105.],\n",
       "       [ 173.,    4.,   25.,   19., 1851.],\n",
       "       ...,\n",
       "       [ 610.,   10.,   20.,   14., 1158.],\n",
       "       [ 116.,    4.,   22.,   17., 1851.],\n",
       "       [ 285.,    6.,   22.,   17., 1385.]])"
      ]
     },
     "execution_count": 85,
     "metadata": {},
     "output_type": "execute_result"
    }
   ],
   "source": [
    "X_val"
   ]
  },
  {
   "cell_type": "code",
   "execution_count": 86,
   "id": "05e2c162",
   "metadata": {},
   "outputs": [
    {
     "data": {
      "text/plain": [
       "(2382,)"
      ]
     },
     "execution_count": 86,
     "metadata": {},
     "output_type": "execute_result"
    }
   ],
   "source": [
    "y_pred_val = (w0+X_val.dot(w))\n",
    "y_pred_val.shape"
   ]
  },
  {
   "cell_type": "code",
   "execution_count": 87,
   "id": "7ca8fb6a",
   "metadata": {},
   "outputs": [
    {
     "data": {
      "text/plain": [
       "(2382,)"
      ]
     },
     "execution_count": 87,
     "metadata": {},
     "output_type": "execute_result"
    }
   ],
   "source": [
    "y_val = df_validate['msrp']\n",
    "y_val.shape"
   ]
  },
  {
   "cell_type": "code",
   "execution_count": 88,
   "id": "d56a9784",
   "metadata": {},
   "outputs": [
    {
     "data": {
      "text/plain": [
       "53557.433006023464"
      ]
     },
     "execution_count": 88,
     "metadata": {},
     "output_type": "execute_result"
    }
   ],
   "source": [
    "rmse(y_val,y_pred_val)"
   ]
  },
  {
   "cell_type": "code",
   "execution_count": 89,
   "id": "db95db54",
   "metadata": {},
   "outputs": [
    {
     "name": "stderr",
     "output_type": "stream",
     "text": [
      "/var/folders/bx/98s7l1y96p1f_2n55v3g_3dc0000gn/T/ipykernel_98926/2884723771.py:1: RuntimeWarning: invalid value encountered in log1p\n",
      "  sns.histplot(np.log1p(y_pred),color = 'r', bins = 50, alpha = 0.5, label = 'Target')\n"
     ]
    },
    {
     "data": {
      "image/png": "[encoded data removed]",
      "text/plain": [
       "<Figure size 432x288 with 1 Axes>"
      ]
     },
     "metadata": {
      "needs_background": "light"
     },
     "output_type": "display_data"
    }
   ],
   "source": [
    "sns.histplot(np.log1p(y_pred),color = 'r', bins = 50, alpha = 0.5, label = 'Target')\n",
    "sns.histplot(np.log1p(y_train), color = 'b', bins = 50 ,  alpha = 0.5, label = 'Train Prediction')\n",
    "\n",
    "sns.histplot(np.log1p(y_val), color = 'g', bins = 50 ,  alpha = 0.5, label = 'Val Prediction')\n",
    "\n",
    "plt.legend()\n",
    "plt.show()"
   ]
  },
  {
   "cell_type": "markdown",
   "id": "28467f17",
   "metadata": {},
   "source": [
    "***\n",
    "# WEEK 2.11\n",
    "\n",
    "***\n",
    "\n",
    "Feature Engineering"
   ]
  },
  {
   "cell_type": "code",
   "execution_count": 90,
   "id": "efa61735",
   "metadata": {},
   "outputs": [],
   "source": [
    "newest = df_train['year'].max()\n",
    "oldest = df_train['year'].min()"
   ]
  },
  {
   "cell_type": "code",
   "execution_count": 91,
   "id": "e210e5f9",
   "metadata": {},
   "outputs": [
    {
     "data": {
      "text/plain": [
       "1990"
      ]
     },
     "execution_count": 91,
     "metadata": {},
     "output_type": "execute_result"
    }
   ],
   "source": [
    "oldest"
   ]
  },
  {
   "cell_type": "code",
   "execution_count": 92,
   "id": "31edd5e6",
   "metadata": {},
   "outputs": [
    {
     "data": {
      "text/plain": [
       "2017"
      ]
     },
     "execution_count": 92,
     "metadata": {},
     "output_type": "execute_result"
    }
   ],
   "source": [
    "newest"
   ]
  },
  {
   "cell_type": "code",
   "execution_count": 93,
   "id": "2c7699b4",
   "metadata": {},
   "outputs": [
    {
     "ename": "KeyError",
     "evalue": "'age'",
     "output_type": "error",
     "traceback": [
      "\u001b[0;31m---------------------------------------------------------------------------\u001b[0m",
      "\u001b[0;31mKeyError\u001b[0m                                  Traceback (most recent call last)",
      "File \u001b[0;32m~/opt/anaconda3/lib/python3.8/site-packages/pandas/core/indexes/base.py:3621\u001b[0m, in \u001b[0;36mIndex.get_loc\u001b[0;34m(self, key, method, tolerance)\u001b[0m\n\u001b[1;32m   3620\u001b[0m \u001b[38;5;28;01mtry\u001b[39;00m:\n\u001b[0;32m-> 3621\u001b[0m     \u001b[38;5;28;01mreturn\u001b[39;00m \u001b[38;5;28;43mself\u001b[39;49m\u001b[38;5;241;43m.\u001b[39;49m\u001b[43m_engine\u001b[49m\u001b[38;5;241;43m.\u001b[39;49m\u001b[43mget_loc\u001b[49m\u001b[43m(\u001b[49m\u001b[43mcasted_key\u001b[49m\u001b[43m)\u001b[49m\n\u001b[1;32m   3622\u001b[0m \u001b[38;5;28;01mexcept\u001b[39;00m \u001b[38;5;167;01mKeyError\u001b[39;00m \u001b[38;5;28;01mas\u001b[39;00m err:\n",
      "File \u001b[0;32m~/opt/anaconda3/lib/python3.8/site-packages/pandas/_libs/index.pyx:136\u001b[0m, in \u001b[0;36mpandas._libs.index.IndexEngine.get_loc\u001b[0;34m()\u001b[0m\n",
      "File \u001b[0;32m~/opt/anaconda3/lib/python3.8/site-packages/pandas/_libs/index.pyx:163\u001b[0m, in \u001b[0;36mpandas._libs.index.IndexEngine.get_loc\u001b[0;34m()\u001b[0m\n",
      "File \u001b[0;32mpandas/_libs/hashtable_class_helper.pxi:5198\u001b[0m, in \u001b[0;36mpandas._libs.hashtable.PyObjectHashTable.get_item\u001b[0;34m()\u001b[0m\n",
      "File \u001b[0;32mpandas/_libs/hashtable_class_helper.pxi:5206\u001b[0m, in \u001b[0;36mpandas._libs.hashtable.PyObjectHashTable.get_item\u001b[0;34m()\u001b[0m\n",
      "\u001b[0;31mKeyError\u001b[0m: 'age'",
      "\nThe above exception was the direct cause of the following exception:\n",
      "\u001b[0;31mKeyError\u001b[0m                                  Traceback (most recent call last)",
      "Input \u001b[0;32mIn [93]\u001b[0m, in \u001b[0;36m<cell line: 1>\u001b[0;34m()\u001b[0m\n\u001b[0;32m----> 1\u001b[0m \u001b[38;5;28;01mdel\u001b[39;00m df_train[\u001b[38;5;124m'\u001b[39m\u001b[38;5;124mage\u001b[39m\u001b[38;5;124m'\u001b[39m]\n",
      "File \u001b[0;32m~/opt/anaconda3/lib/python3.8/site-packages/pandas/core/generic.py:4048\u001b[0m, in \u001b[0;36mNDFrame.__delitem__\u001b[0;34m(self, key)\u001b[0m\n\u001b[1;32m   4043\u001b[0m             deleted \u001b[38;5;241m=\u001b[39m \u001b[38;5;28;01mTrue\u001b[39;00m\n\u001b[1;32m   4044\u001b[0m \u001b[38;5;28;01mif\u001b[39;00m \u001b[38;5;129;01mnot\u001b[39;00m deleted:\n\u001b[1;32m   4045\u001b[0m     \u001b[38;5;66;03m# If the above loop ran and didn't delete anything because\u001b[39;00m\n\u001b[1;32m   4046\u001b[0m     \u001b[38;5;66;03m# there was no match, this call should raise the appropriate\u001b[39;00m\n\u001b[1;32m   4047\u001b[0m     \u001b[38;5;66;03m# exception:\u001b[39;00m\n\u001b[0;32m-> 4048\u001b[0m     loc \u001b[38;5;241m=\u001b[39m \u001b[38;5;28;43mself\u001b[39;49m\u001b[38;5;241;43m.\u001b[39;49m\u001b[43maxes\u001b[49m\u001b[43m[\u001b[49m\u001b[38;5;241;43m-\u001b[39;49m\u001b[38;5;241;43m1\u001b[39;49m\u001b[43m]\u001b[49m\u001b[38;5;241;43m.\u001b[39;49m\u001b[43mget_loc\u001b[49m\u001b[43m(\u001b[49m\u001b[43mkey\u001b[49m\u001b[43m)\u001b[49m\n\u001b[1;32m   4049\u001b[0m     \u001b[38;5;28mself\u001b[39m\u001b[38;5;241m.\u001b[39m_mgr \u001b[38;5;241m=\u001b[39m \u001b[38;5;28mself\u001b[39m\u001b[38;5;241m.\u001b[39m_mgr\u001b[38;5;241m.\u001b[39midelete(loc)\n\u001b[1;32m   4051\u001b[0m \u001b[38;5;66;03m# delete from the caches\u001b[39;00m\n",
      "File \u001b[0;32m~/opt/anaconda3/lib/python3.8/site-packages/pandas/core/indexes/base.py:3623\u001b[0m, in \u001b[0;36mIndex.get_loc\u001b[0;34m(self, key, method, tolerance)\u001b[0m\n\u001b[1;32m   3621\u001b[0m     \u001b[38;5;28;01mreturn\u001b[39;00m \u001b[38;5;28mself\u001b[39m\u001b[38;5;241m.\u001b[39m_engine\u001b[38;5;241m.\u001b[39mget_loc(casted_key)\n\u001b[1;32m   3622\u001b[0m \u001b[38;5;28;01mexcept\u001b[39;00m \u001b[38;5;167;01mKeyError\u001b[39;00m \u001b[38;5;28;01mas\u001b[39;00m err:\n\u001b[0;32m-> 3623\u001b[0m     \u001b[38;5;28;01mraise\u001b[39;00m \u001b[38;5;167;01mKeyError\u001b[39;00m(key) \u001b[38;5;28;01mfrom\u001b[39;00m \u001b[38;5;21;01merr\u001b[39;00m\n\u001b[1;32m   3624\u001b[0m \u001b[38;5;28;01mexcept\u001b[39;00m \u001b[38;5;167;01mTypeError\u001b[39;00m:\n\u001b[1;32m   3625\u001b[0m     \u001b[38;5;66;03m# If we have a listlike key, _check_indexing_error will raise\u001b[39;00m\n\u001b[1;32m   3626\u001b[0m     \u001b[38;5;66;03m#  InvalidIndexError. Otherwise we fall through and re-raise\u001b[39;00m\n\u001b[1;32m   3627\u001b[0m     \u001b[38;5;66;03m#  the TypeError.\u001b[39;00m\n\u001b[1;32m   3628\u001b[0m     \u001b[38;5;28mself\u001b[39m\u001b[38;5;241m.\u001b[39m_check_indexing_error(key)\n",
      "\u001b[0;31mKeyError\u001b[0m: 'age'"
     ]
    }
   ],
   "source": [
    "del df_train['age']"
   ]
  },
  {
   "cell_type": "code",
   "execution_count": null,
   "id": "61284b24",
   "metadata": {},
   "outputs": [],
   "source": [
    "def prepare_X(df,features):\n",
    "    df = df.copy()\n",
    "    df['age'] = df['year'].max() - df['year']\n",
    "    \n",
    "    features = features + ['age']\n",
    "    \n",
    "    df_num = df[features]\n",
    "    df_num = df_num.fillna(0)\n",
    "    X = df_num.values\n",
    "    return X"
   ]
  },
  {
   "cell_type": "code",
   "execution_count": null,
   "id": "6ffd9e3b",
   "metadata": {},
   "outputs": [],
   "source": [
    "X_train  = prepare_X(df_train,base)"
   ]
  },
  {
   "cell_type": "code",
   "execution_count": null,
   "id": "66accf1e",
   "metadata": {},
   "outputs": [],
   "source": [
    "X_train"
   ]
  },
  {
   "cell_type": "code",
   "execution_count": null,
   "id": "1d6c06c7",
   "metadata": {},
   "outputs": [],
   "source": [
    "X_train  = prepare_X(df_train,base)\n",
    "\n",
    "w0, w = train_linear_regression(X_train,y_train)\n",
    "\n",
    "X_val = prepare_X(df_validate,base)\n",
    "y_val = df_validate['msrp']\n",
    "y_pred = np.array(w0 + X_val.dot(w))\n",
    "\n",
    "rmse(y_val,y_pred)\n"
   ]
  },
  {
   "cell_type": "code",
   "execution_count": null,
   "id": "ab4fc7de",
   "metadata": {},
   "outputs": [],
   "source": [
    "sns.histplot(np.log1p(y_pred),color = 'r', bins = 50, alpha = 0.5, label = 'Target')\n",
    "#sns.histplot(np.log1p(y_train), color = 'b', bins = 50 ,  alpha = 0.5, label = 'Train Prediction')\n",
    "\n",
    "sns.histplot(np.log1p(y_val), color = 'g', bins = 50 ,  alpha = 0.5, label = 'Val Prediction')\n",
    "\n",
    "plt.legend()\n",
    "plt.show()"
   ]
  },
  {
   "cell_type": "markdown",
   "id": "1eb45e64",
   "metadata": {},
   "source": [
    "***\n",
    "# WEEK 2.12\n",
    "\n",
    "***\n",
    "\n",
    "Categorical Variables"
   ]
  },
  {
   "cell_type": "markdown",
   "id": "ab08c316",
   "metadata": {},
   "source": [
    "Categorical variables that appear like numerical variables like number of doors present a challenge. They should handled as multiple serieses that contain binary values. \n",
    "\n",
    "If number of doors is equal to 2, then the 2door series will have a 1, else it will have a 0.\n",
    "\n",
    "If number of doors is equal to 4, then the 2door series will have a 0 and the 4door series will show a 1."
   ]
  },
  {
   "cell_type": "code",
   "execution_count": 94,
   "id": "ae21d6e9",
   "metadata": {},
   "outputs": [
    {
     "data": {
      "text/plain": [
       "0       2.0\n",
       "1       4.0\n",
       "2       4.0\n",
       "3       4.0\n",
       "4       2.0\n",
       "       ... \n",
       "7142    2.0\n",
       "7143    2.0\n",
       "7144    4.0\n",
       "7145    4.0\n",
       "7146    2.0\n",
       "Name: number_of_doors, Length: 7147, dtype: float64"
      ]
     },
     "execution_count": 94,
     "metadata": {},
     "output_type": "execute_result"
    }
   ],
   "source": [
    "df_train['number_of_doors']"
   ]
  },
  {
   "cell_type": "code",
   "execution_count": 95,
   "id": "293d9dd7",
   "metadata": {},
   "outputs": [
    {
     "data": {
      "text/plain": [
       "0        True\n",
       "1       False\n",
       "2       False\n",
       "3       False\n",
       "4        True\n",
       "        ...  \n",
       "7142     True\n",
       "7143     True\n",
       "7144    False\n",
       "7145    False\n",
       "7146     True\n",
       "Name: number_of_doors, Length: 7147, dtype: bool"
      ]
     },
     "execution_count": 95,
     "metadata": {},
     "output_type": "execute_result"
    }
   ],
   "source": [
    "df_train['number_of_doors'] == 2"
   ]
  },
  {
   "cell_type": "code",
   "execution_count": 96,
   "id": "f837f41a",
   "metadata": {},
   "outputs": [
    {
     "data": {
      "text/plain": [
       "0       1\n",
       "1       0\n",
       "2       0\n",
       "3       0\n",
       "4       1\n",
       "       ..\n",
       "7142    1\n",
       "7143    1\n",
       "7144    0\n",
       "7145    0\n",
       "7146    1\n",
       "Name: number_of_doors, Length: 7147, dtype: int64"
      ]
     },
     "execution_count": 96,
     "metadata": {},
     "output_type": "execute_result"
    }
   ],
   "source": [
    "# converts T/F values to 0 and 1 values for the series\n",
    "(df_train['number_of_doors'] == 2).astype('int')"
   ]
  },
  {
   "cell_type": "code",
   "execution_count": 97,
   "id": "b49427ae",
   "metadata": {},
   "outputs": [
    {
     "data": {
      "text/plain": [
       "array([ 2.,  4.,  3., nan])"
      ]
     },
     "execution_count": 97,
     "metadata": {},
     "output_type": "execute_result"
    }
   ],
   "source": [
    "df_train['number_of_doors'].unique()"
   ]
  },
  {
   "cell_type": "code",
   "execution_count": 105,
   "id": "139cb3f5",
   "metadata": {},
   "outputs": [],
   "source": [
    "for val in [2,3,4]:\n",
    "    df_train['doors_%s' %val] = (df_train['number_of_doors'] == val).astype('int')"
   ]
  },
  {
   "cell_type": "code",
   "execution_count": 111,
   "id": "753e408b",
   "metadata": {},
   "outputs": [],
   "source": [
    "del df_train['doors_4']"
   ]
  },
  {
   "cell_type": "code",
   "execution_count": 121,
   "id": "0074b94a",
   "metadata": {},
   "outputs": [],
   "source": [
    "def prepare_X(df):\n",
    "    df = df.copy()\n",
    "    features = base.copy()\n",
    "    df['age'] = df['year'].max() - df['year']\n",
    "    \n",
    "    features.append('age')\n",
    "    \n",
    "    for val in [2,3,4]:\n",
    "        df_train['doors_%s' %val] = (df_train['number_of_doors'] == val).astype('int')\n",
    "        features.append('doors_%s' %val)\n",
    "    \n",
    "    df_num = df[features]\n",
    "    df_num = df_num.fillna(0)\n",
    "    X = df_num.values\n",
    "    print(df)\n",
    "    return X"
   ]
  },
  {
   "cell_type": "code",
   "execution_count": 118,
   "id": "9b28869f",
   "metadata": {},
   "outputs": [],
   "source": [
    "X_train = prepare_X(df_train)\n",
    "w0,w = train_linear_regression(X_train,y_train)\n"
   ]
  },
  {
   "cell_type": "code",
   "execution_count": 122,
   "id": "b4d873d0",
   "metadata": {},
   "outputs": [
    {
     "ename": "KeyError",
     "evalue": "\"['doors_2', 'doors_3', 'doors_4'] not in index\"",
     "output_type": "error",
     "traceback": [
      "\u001b[0;31m---------------------------------------------------------------------------\u001b[0m",
      "\u001b[0;31mKeyError\u001b[0m                                  Traceback (most recent call last)",
      "Input \u001b[0;32mIn [122]\u001b[0m, in \u001b[0;36m<cell line: 1>\u001b[0;34m()\u001b[0m\n\u001b[0;32m----> 1\u001b[0m X_val \u001b[38;5;241m=\u001b[39m \u001b[43mprepare_X\u001b[49m\u001b[43m(\u001b[49m\u001b[43mdf_validate\u001b[49m\u001b[43m)\u001b[49m\n",
      "Input \u001b[0;32mIn [121]\u001b[0m, in \u001b[0;36mprepare_X\u001b[0;34m(df)\u001b[0m\n\u001b[1;32m      9\u001b[0m     df_train[\u001b[38;5;124m'\u001b[39m\u001b[38;5;124mdoors_\u001b[39m\u001b[38;5;132;01m%s\u001b[39;00m\u001b[38;5;124m'\u001b[39m \u001b[38;5;241m%\u001b[39mval] \u001b[38;5;241m=\u001b[39m (df_train[\u001b[38;5;124m'\u001b[39m\u001b[38;5;124mnumber_of_doors\u001b[39m\u001b[38;5;124m'\u001b[39m] \u001b[38;5;241m==\u001b[39m val)\u001b[38;5;241m.\u001b[39mastype(\u001b[38;5;124m'\u001b[39m\u001b[38;5;124mint\u001b[39m\u001b[38;5;124m'\u001b[39m)\n\u001b[1;32m     10\u001b[0m     features\u001b[38;5;241m.\u001b[39mappend(\u001b[38;5;124m'\u001b[39m\u001b[38;5;124mdoors_\u001b[39m\u001b[38;5;132;01m%s\u001b[39;00m\u001b[38;5;124m'\u001b[39m \u001b[38;5;241m%\u001b[39mval)\n\u001b[0;32m---> 12\u001b[0m df_num \u001b[38;5;241m=\u001b[39m \u001b[43mdf\u001b[49m\u001b[43m[\u001b[49m\u001b[43mfeatures\u001b[49m\u001b[43m]\u001b[49m\n\u001b[1;32m     13\u001b[0m df_num \u001b[38;5;241m=\u001b[39m df_num\u001b[38;5;241m.\u001b[39mfillna(\u001b[38;5;241m0\u001b[39m)\n\u001b[1;32m     14\u001b[0m X \u001b[38;5;241m=\u001b[39m df_num\u001b[38;5;241m.\u001b[39mvalues\n",
      "File \u001b[0;32m~/opt/anaconda3/lib/python3.8/site-packages/pandas/core/frame.py:3511\u001b[0m, in \u001b[0;36mDataFrame.__getitem__\u001b[0;34m(self, key)\u001b[0m\n\u001b[1;32m   3509\u001b[0m     \u001b[38;5;28;01mif\u001b[39;00m is_iterator(key):\n\u001b[1;32m   3510\u001b[0m         key \u001b[38;5;241m=\u001b[39m \u001b[38;5;28mlist\u001b[39m(key)\n\u001b[0;32m-> 3511\u001b[0m     indexer \u001b[38;5;241m=\u001b[39m \u001b[38;5;28;43mself\u001b[39;49m\u001b[38;5;241;43m.\u001b[39;49m\u001b[43mcolumns\u001b[49m\u001b[38;5;241;43m.\u001b[39;49m\u001b[43m_get_indexer_strict\u001b[49m\u001b[43m(\u001b[49m\u001b[43mkey\u001b[49m\u001b[43m,\u001b[49m\u001b[43m \u001b[49m\u001b[38;5;124;43m\"\u001b[39;49m\u001b[38;5;124;43mcolumns\u001b[39;49m\u001b[38;5;124;43m\"\u001b[39;49m\u001b[43m)\u001b[49m[\u001b[38;5;241m1\u001b[39m]\n\u001b[1;32m   3513\u001b[0m \u001b[38;5;66;03m# take() does not accept boolean indexers\u001b[39;00m\n\u001b[1;32m   3514\u001b[0m \u001b[38;5;28;01mif\u001b[39;00m \u001b[38;5;28mgetattr\u001b[39m(indexer, \u001b[38;5;124m\"\u001b[39m\u001b[38;5;124mdtype\u001b[39m\u001b[38;5;124m\"\u001b[39m, \u001b[38;5;28;01mNone\u001b[39;00m) \u001b[38;5;241m==\u001b[39m \u001b[38;5;28mbool\u001b[39m:\n",
      "File \u001b[0;32m~/opt/anaconda3/lib/python3.8/site-packages/pandas/core/indexes/base.py:5782\u001b[0m, in \u001b[0;36mIndex._get_indexer_strict\u001b[0;34m(self, key, axis_name)\u001b[0m\n\u001b[1;32m   5779\u001b[0m \u001b[38;5;28;01melse\u001b[39;00m:\n\u001b[1;32m   5780\u001b[0m     keyarr, indexer, new_indexer \u001b[38;5;241m=\u001b[39m \u001b[38;5;28mself\u001b[39m\u001b[38;5;241m.\u001b[39m_reindex_non_unique(keyarr)\n\u001b[0;32m-> 5782\u001b[0m \u001b[38;5;28;43mself\u001b[39;49m\u001b[38;5;241;43m.\u001b[39;49m\u001b[43m_raise_if_missing\u001b[49m\u001b[43m(\u001b[49m\u001b[43mkeyarr\u001b[49m\u001b[43m,\u001b[49m\u001b[43m \u001b[49m\u001b[43mindexer\u001b[49m\u001b[43m,\u001b[49m\u001b[43m \u001b[49m\u001b[43maxis_name\u001b[49m\u001b[43m)\u001b[49m\n\u001b[1;32m   5784\u001b[0m keyarr \u001b[38;5;241m=\u001b[39m \u001b[38;5;28mself\u001b[39m\u001b[38;5;241m.\u001b[39mtake(indexer)\n\u001b[1;32m   5785\u001b[0m \u001b[38;5;28;01mif\u001b[39;00m \u001b[38;5;28misinstance\u001b[39m(key, Index):\n\u001b[1;32m   5786\u001b[0m     \u001b[38;5;66;03m# GH 42790 - Preserve name from an Index\u001b[39;00m\n",
      "File \u001b[0;32m~/opt/anaconda3/lib/python3.8/site-packages/pandas/core/indexes/base.py:5845\u001b[0m, in \u001b[0;36mIndex._raise_if_missing\u001b[0;34m(self, key, indexer, axis_name)\u001b[0m\n\u001b[1;32m   5842\u001b[0m     \u001b[38;5;28;01mraise\u001b[39;00m \u001b[38;5;167;01mKeyError\u001b[39;00m(\u001b[38;5;124mf\u001b[39m\u001b[38;5;124m\"\u001b[39m\u001b[38;5;124mNone of [\u001b[39m\u001b[38;5;132;01m{\u001b[39;00mkey\u001b[38;5;132;01m}\u001b[39;00m\u001b[38;5;124m] are in the [\u001b[39m\u001b[38;5;132;01m{\u001b[39;00maxis_name\u001b[38;5;132;01m}\u001b[39;00m\u001b[38;5;124m]\u001b[39m\u001b[38;5;124m\"\u001b[39m)\n\u001b[1;32m   5844\u001b[0m not_found \u001b[38;5;241m=\u001b[39m \u001b[38;5;28mlist\u001b[39m(ensure_index(key)[missing_mask\u001b[38;5;241m.\u001b[39mnonzero()[\u001b[38;5;241m0\u001b[39m]]\u001b[38;5;241m.\u001b[39munique())\n\u001b[0;32m-> 5845\u001b[0m \u001b[38;5;28;01mraise\u001b[39;00m \u001b[38;5;167;01mKeyError\u001b[39;00m(\u001b[38;5;124mf\u001b[39m\u001b[38;5;124m\"\u001b[39m\u001b[38;5;132;01m{\u001b[39;00mnot_found\u001b[38;5;132;01m}\u001b[39;00m\u001b[38;5;124m not in index\u001b[39m\u001b[38;5;124m\"\u001b[39m)\n",
      "\u001b[0;31mKeyError\u001b[0m: \"['doors_2', 'doors_3', 'doors_4'] not in index\""
     ]
    }
   ],
   "source": [
    "X_val = prepare_X(df_validate)"
   ]
  },
  {
   "cell_type": "code",
   "execution_count": 116,
   "id": "019feda3",
   "metadata": {},
   "outputs": [
    {
     "data": {
      "text/plain": [
       "array([[515.,  12.,  15., ...,   1.,   0.,   0.],\n",
       "       [365.,   6.,  20., ...,   0.,   0.,   1.],\n",
       "       [143.,   4.,  39., ...,   0.,   0.,   1.],\n",
       "       ...,\n",
       "       [184.,   4.,  37., ...,   0.,   0.,   1.],\n",
       "       [325.,   6.,  25., ...,   0.,   0.,   1.],\n",
       "       [167.,   4.,  28., ...,   1.,   0.,   0.]])"
      ]
     },
     "execution_count": 116,
     "metadata": {},
     "output_type": "execute_result"
    }
   ],
   "source": [
    "prepare_X(df_train)"
   ]
  },
  {
   "cell_type": "markdown",
   "id": "fb04779a",
   "metadata": {},
   "source": [
    "***\n",
    "# WEEK 2.13\n",
    "\n",
    "***\n",
    "\n",
    "Regularization"
   ]
  },
  {
   "cell_type": "markdown",
   "id": "3d0c4b72",
   "metadata": {},
   "source": [
    "***\n",
    "# WEEK 2.14\n",
    "\n",
    "***\n",
    "\n",
    "Tuning the Model"
   ]
  },
  {
   "cell_type": "markdown",
   "id": "7fd32d6b",
   "metadata": {},
   "source": [
    "***\n",
    "# WEEK 2.15\n",
    "\n",
    "***\n",
    "\n",
    "Using the Model"
   ]
  },
  {
   "cell_type": "markdown",
   "id": "5c16ce20",
   "metadata": {},
   "source": [
    "***\n",
    "# WEEK 2.16\n",
    "\n",
    "***\n",
    "\n",
    "Car Price Prediction Project Summary"
   ]
  },
  {
   "cell_type": "code",
   "execution_count": null,
   "id": "34314da5",
   "metadata": {},
   "outputs": [],
   "source": []
  }
 ],
 "metadata": {
  "kernelspec": {
   "display_name": "base_venv",
   "language": "python",
   "name": "base_venv"
  },
  "language_info": {
   "codemirror_mode": {
    "name": "ipython",
    "version": 3
   },
   "file_extension": ".py",
   "mimetype": "text/x-python",
   "name": "python",
   "nbconvert_exporter": "python",
   "pygments_lexer": "ipython3",
   "version": "3.8.2"
  }
 },
 "nbformat": 4,
 "nbformat_minor": 5
}
